{
 "cells": [
  {
   "cell_type": "markdown",
   "id": "38d32cbd",
   "metadata": {
    "papermill": {
     "duration": 0.00841,
     "end_time": "2024-09-20T16:30:28.541617",
     "exception": false,
     "start_time": "2024-09-20T16:30:28.533207",
     "status": "completed"
    },
    "tags": []
   },
   "source": [
    "## 1- import libraries "
   ]
  },
  {
   "cell_type": "code",
   "execution_count": 1,
   "id": "68c07603",
   "metadata": {
    "_cell_guid": "b1076dfc-b9ad-4769-8c92-a6c4dae69d19",
    "_uuid": "8f2839f25d086af736a60e9eeb907d3b93b6e0e5",
    "execution": {
     "iopub.execute_input": "2024-09-20T16:30:28.559560Z",
     "iopub.status.busy": "2024-09-20T16:30:28.559103Z",
     "iopub.status.idle": "2024-09-20T16:30:45.100565Z",
     "shell.execute_reply": "2024-09-20T16:30:45.099398Z"
    },
    "papermill": {
     "duration": 16.553438,
     "end_time": "2024-09-20T16:30:45.103227",
     "exception": false,
     "start_time": "2024-09-20T16:30:28.549789",
     "status": "completed"
    },
    "tags": []
   },
   "outputs": [],
   "source": [
    "import pandas as pd \n",
    "import numpy as np\n",
    "import matplotlib.pyplot as plt\n",
    "import seaborn as sns\n",
    "\n",
    "from sklearn.preprocessing import StandardScaler\n",
    "from sklearn.preprocessing import LabelEncoder\n",
    "\n",
    "\n",
    "from sklearn.model_selection import train_test_split\n",
    "\n",
    "from tensorflow.keras.models import Sequential\n",
    "from tensorflow.keras.layers import Dense\n",
    "\n",
    "from sklearn.metrics import accuracy_score\n",
    "from sklearn.metrics import confusion_matrix"
   ]
  },
  {
   "cell_type": "markdown",
   "id": "636c20cc",
   "metadata": {
    "papermill": {
     "duration": 0.007612,
     "end_time": "2024-09-20T16:30:45.118889",
     "exception": false,
     "start_time": "2024-09-20T16:30:45.111277",
     "status": "completed"
    },
    "tags": []
   },
   "source": [
    "## 2- Reading the data "
   ]
  },
  {
   "cell_type": "code",
   "execution_count": 2,
   "id": "e474076f",
   "metadata": {
    "execution": {
     "iopub.execute_input": "2024-09-20T16:30:45.136716Z",
     "iopub.status.busy": "2024-09-20T16:30:45.136025Z",
     "iopub.status.idle": "2024-09-20T16:30:45.547244Z",
     "shell.execute_reply": "2024-09-20T16:30:45.546302Z"
    },
    "papermill": {
     "duration": 0.422864,
     "end_time": "2024-09-20T16:30:45.549823",
     "exception": false,
     "start_time": "2024-09-20T16:30:45.126959",
     "status": "completed"
    },
    "tags": []
   },
   "outputs": [],
   "source": [
    "data = pd.read_csv(r\"/kaggle/input/healthcare-dataset/healthcare_dataset.csv\")"
   ]
  },
  {
   "cell_type": "markdown",
   "id": "21cbb9e0",
   "metadata": {
    "papermill": {
     "duration": 0.007995,
     "end_time": "2024-09-20T16:30:45.565872",
     "exception": false,
     "start_time": "2024-09-20T16:30:45.557877",
     "status": "completed"
    },
    "tags": []
   },
   "source": [
    "## 3- Data analysis "
   ]
  },
  {
   "cell_type": "code",
   "execution_count": 3,
   "id": "c196c4bd",
   "metadata": {
    "execution": {
     "iopub.execute_input": "2024-09-20T16:30:45.583989Z",
     "iopub.status.busy": "2024-09-20T16:30:45.583242Z",
     "iopub.status.idle": "2024-09-20T16:30:45.612493Z",
     "shell.execute_reply": "2024-09-20T16:30:45.611397Z"
    },
    "papermill": {
     "duration": 0.041071,
     "end_time": "2024-09-20T16:30:45.614932",
     "exception": false,
     "start_time": "2024-09-20T16:30:45.573861",
     "status": "completed"
    },
    "tags": []
   },
   "outputs": [
    {
     "data": {
      "text/html": [
       "<div>\n",
       "<style scoped>\n",
       "    .dataframe tbody tr th:only-of-type {\n",
       "        vertical-align: middle;\n",
       "    }\n",
       "\n",
       "    .dataframe tbody tr th {\n",
       "        vertical-align: top;\n",
       "    }\n",
       "\n",
       "    .dataframe thead th {\n",
       "        text-align: right;\n",
       "    }\n",
       "</style>\n",
       "<table border=\"1\" class=\"dataframe\">\n",
       "  <thead>\n",
       "    <tr style=\"text-align: right;\">\n",
       "      <th></th>\n",
       "      <th>Name</th>\n",
       "      <th>Age</th>\n",
       "      <th>Gender</th>\n",
       "      <th>Blood Type</th>\n",
       "      <th>Medical Condition</th>\n",
       "      <th>Date of Admission</th>\n",
       "      <th>Doctor</th>\n",
       "      <th>Hospital</th>\n",
       "      <th>Insurance Provider</th>\n",
       "      <th>Billing Amount</th>\n",
       "      <th>Room Number</th>\n",
       "      <th>Admission Type</th>\n",
       "      <th>Discharge Date</th>\n",
       "      <th>Medication</th>\n",
       "      <th>Test Results</th>\n",
       "    </tr>\n",
       "  </thead>\n",
       "  <tbody>\n",
       "    <tr>\n",
       "      <th>0</th>\n",
       "      <td>Bobby JacksOn</td>\n",
       "      <td>30</td>\n",
       "      <td>Male</td>\n",
       "      <td>B-</td>\n",
       "      <td>Cancer</td>\n",
       "      <td>2024-01-31</td>\n",
       "      <td>Matthew Smith</td>\n",
       "      <td>Sons and Miller</td>\n",
       "      <td>Blue Cross</td>\n",
       "      <td>18856.281306</td>\n",
       "      <td>328</td>\n",
       "      <td>Urgent</td>\n",
       "      <td>2024-02-02</td>\n",
       "      <td>Paracetamol</td>\n",
       "      <td>Normal</td>\n",
       "    </tr>\n",
       "    <tr>\n",
       "      <th>1</th>\n",
       "      <td>LesLie TErRy</td>\n",
       "      <td>62</td>\n",
       "      <td>Male</td>\n",
       "      <td>A+</td>\n",
       "      <td>Obesity</td>\n",
       "      <td>2019-08-20</td>\n",
       "      <td>Samantha Davies</td>\n",
       "      <td>Kim Inc</td>\n",
       "      <td>Medicare</td>\n",
       "      <td>33643.327287</td>\n",
       "      <td>265</td>\n",
       "      <td>Emergency</td>\n",
       "      <td>2019-08-26</td>\n",
       "      <td>Ibuprofen</td>\n",
       "      <td>Inconclusive</td>\n",
       "    </tr>\n",
       "    <tr>\n",
       "      <th>2</th>\n",
       "      <td>DaNnY sMitH</td>\n",
       "      <td>76</td>\n",
       "      <td>Female</td>\n",
       "      <td>A-</td>\n",
       "      <td>Obesity</td>\n",
       "      <td>2022-09-22</td>\n",
       "      <td>Tiffany Mitchell</td>\n",
       "      <td>Cook PLC</td>\n",
       "      <td>Aetna</td>\n",
       "      <td>27955.096079</td>\n",
       "      <td>205</td>\n",
       "      <td>Emergency</td>\n",
       "      <td>2022-10-07</td>\n",
       "      <td>Aspirin</td>\n",
       "      <td>Normal</td>\n",
       "    </tr>\n",
       "    <tr>\n",
       "      <th>3</th>\n",
       "      <td>andrEw waTtS</td>\n",
       "      <td>28</td>\n",
       "      <td>Female</td>\n",
       "      <td>O+</td>\n",
       "      <td>Diabetes</td>\n",
       "      <td>2020-11-18</td>\n",
       "      <td>Kevin Wells</td>\n",
       "      <td>Hernandez Rogers and Vang,</td>\n",
       "      <td>Medicare</td>\n",
       "      <td>37909.782410</td>\n",
       "      <td>450</td>\n",
       "      <td>Elective</td>\n",
       "      <td>2020-12-18</td>\n",
       "      <td>Ibuprofen</td>\n",
       "      <td>Abnormal</td>\n",
       "    </tr>\n",
       "    <tr>\n",
       "      <th>4</th>\n",
       "      <td>adrIENNE bEll</td>\n",
       "      <td>43</td>\n",
       "      <td>Female</td>\n",
       "      <td>AB+</td>\n",
       "      <td>Cancer</td>\n",
       "      <td>2022-09-19</td>\n",
       "      <td>Kathleen Hanna</td>\n",
       "      <td>White-White</td>\n",
       "      <td>Aetna</td>\n",
       "      <td>14238.317814</td>\n",
       "      <td>458</td>\n",
       "      <td>Urgent</td>\n",
       "      <td>2022-10-09</td>\n",
       "      <td>Penicillin</td>\n",
       "      <td>Abnormal</td>\n",
       "    </tr>\n",
       "  </tbody>\n",
       "</table>\n",
       "</div>"
      ],
      "text/plain": [
       "            Name  Age  Gender Blood Type Medical Condition Date of Admission  \\\n",
       "0  Bobby JacksOn   30    Male         B-            Cancer        2024-01-31   \n",
       "1   LesLie TErRy   62    Male         A+           Obesity        2019-08-20   \n",
       "2    DaNnY sMitH   76  Female         A-           Obesity        2022-09-22   \n",
       "3   andrEw waTtS   28  Female         O+          Diabetes        2020-11-18   \n",
       "4  adrIENNE bEll   43  Female        AB+            Cancer        2022-09-19   \n",
       "\n",
       "             Doctor                    Hospital Insurance Provider  \\\n",
       "0     Matthew Smith             Sons and Miller         Blue Cross   \n",
       "1   Samantha Davies                     Kim Inc           Medicare   \n",
       "2  Tiffany Mitchell                    Cook PLC              Aetna   \n",
       "3       Kevin Wells  Hernandez Rogers and Vang,           Medicare   \n",
       "4    Kathleen Hanna                 White-White              Aetna   \n",
       "\n",
       "   Billing Amount  Room Number Admission Type Discharge Date   Medication  \\\n",
       "0    18856.281306          328         Urgent     2024-02-02  Paracetamol   \n",
       "1    33643.327287          265      Emergency     2019-08-26    Ibuprofen   \n",
       "2    27955.096079          205      Emergency     2022-10-07      Aspirin   \n",
       "3    37909.782410          450       Elective     2020-12-18    Ibuprofen   \n",
       "4    14238.317814          458         Urgent     2022-10-09   Penicillin   \n",
       "\n",
       "   Test Results  \n",
       "0        Normal  \n",
       "1  Inconclusive  \n",
       "2        Normal  \n",
       "3      Abnormal  \n",
       "4      Abnormal  "
      ]
     },
     "execution_count": 3,
     "metadata": {},
     "output_type": "execute_result"
    }
   ],
   "source": [
    "data.head()"
   ]
  },
  {
   "cell_type": "code",
   "execution_count": 4,
   "id": "0870b5a7",
   "metadata": {
    "execution": {
     "iopub.execute_input": "2024-09-20T16:30:45.633646Z",
     "iopub.status.busy": "2024-09-20T16:30:45.632875Z",
     "iopub.status.idle": "2024-09-20T16:30:45.651541Z",
     "shell.execute_reply": "2024-09-20T16:30:45.650250Z"
    },
    "papermill": {
     "duration": 0.030506,
     "end_time": "2024-09-20T16:30:45.653919",
     "exception": false,
     "start_time": "2024-09-20T16:30:45.623413",
     "status": "completed"
    },
    "tags": []
   },
   "outputs": [
    {
     "data": {
      "text/html": [
       "<div>\n",
       "<style scoped>\n",
       "    .dataframe tbody tr th:only-of-type {\n",
       "        vertical-align: middle;\n",
       "    }\n",
       "\n",
       "    .dataframe tbody tr th {\n",
       "        vertical-align: top;\n",
       "    }\n",
       "\n",
       "    .dataframe thead th {\n",
       "        text-align: right;\n",
       "    }\n",
       "</style>\n",
       "<table border=\"1\" class=\"dataframe\">\n",
       "  <thead>\n",
       "    <tr style=\"text-align: right;\">\n",
       "      <th></th>\n",
       "      <th>Name</th>\n",
       "      <th>Age</th>\n",
       "      <th>Gender</th>\n",
       "      <th>Blood Type</th>\n",
       "      <th>Medical Condition</th>\n",
       "      <th>Date of Admission</th>\n",
       "      <th>Doctor</th>\n",
       "      <th>Hospital</th>\n",
       "      <th>Insurance Provider</th>\n",
       "      <th>Billing Amount</th>\n",
       "      <th>Room Number</th>\n",
       "      <th>Admission Type</th>\n",
       "      <th>Discharge Date</th>\n",
       "      <th>Medication</th>\n",
       "      <th>Test Results</th>\n",
       "    </tr>\n",
       "  </thead>\n",
       "  <tbody>\n",
       "    <tr>\n",
       "      <th>55495</th>\n",
       "      <td>eLIZABeTH jaCkSOn</td>\n",
       "      <td>42</td>\n",
       "      <td>Female</td>\n",
       "      <td>O+</td>\n",
       "      <td>Asthma</td>\n",
       "      <td>2020-08-16</td>\n",
       "      <td>Joshua Jarvis</td>\n",
       "      <td>Jones-Thompson</td>\n",
       "      <td>Blue Cross</td>\n",
       "      <td>2650.714952</td>\n",
       "      <td>417</td>\n",
       "      <td>Elective</td>\n",
       "      <td>2020-09-15</td>\n",
       "      <td>Penicillin</td>\n",
       "      <td>Abnormal</td>\n",
       "    </tr>\n",
       "    <tr>\n",
       "      <th>55496</th>\n",
       "      <td>KYle pEREz</td>\n",
       "      <td>61</td>\n",
       "      <td>Female</td>\n",
       "      <td>AB-</td>\n",
       "      <td>Obesity</td>\n",
       "      <td>2020-01-23</td>\n",
       "      <td>Taylor Sullivan</td>\n",
       "      <td>Tucker-Moyer</td>\n",
       "      <td>Cigna</td>\n",
       "      <td>31457.797307</td>\n",
       "      <td>316</td>\n",
       "      <td>Elective</td>\n",
       "      <td>2020-02-01</td>\n",
       "      <td>Aspirin</td>\n",
       "      <td>Normal</td>\n",
       "    </tr>\n",
       "    <tr>\n",
       "      <th>55497</th>\n",
       "      <td>HEATher WaNG</td>\n",
       "      <td>38</td>\n",
       "      <td>Female</td>\n",
       "      <td>B+</td>\n",
       "      <td>Hypertension</td>\n",
       "      <td>2020-07-13</td>\n",
       "      <td>Joe Jacobs DVM</td>\n",
       "      <td>and Mahoney Johnson Vasquez,</td>\n",
       "      <td>UnitedHealthcare</td>\n",
       "      <td>27620.764717</td>\n",
       "      <td>347</td>\n",
       "      <td>Urgent</td>\n",
       "      <td>2020-08-10</td>\n",
       "      <td>Ibuprofen</td>\n",
       "      <td>Abnormal</td>\n",
       "    </tr>\n",
       "    <tr>\n",
       "      <th>55498</th>\n",
       "      <td>JENniFER JOneS</td>\n",
       "      <td>43</td>\n",
       "      <td>Male</td>\n",
       "      <td>O-</td>\n",
       "      <td>Arthritis</td>\n",
       "      <td>2019-05-25</td>\n",
       "      <td>Kimberly Curry</td>\n",
       "      <td>Jackson Todd and Castro,</td>\n",
       "      <td>Medicare</td>\n",
       "      <td>32451.092358</td>\n",
       "      <td>321</td>\n",
       "      <td>Elective</td>\n",
       "      <td>2019-05-31</td>\n",
       "      <td>Ibuprofen</td>\n",
       "      <td>Abnormal</td>\n",
       "    </tr>\n",
       "    <tr>\n",
       "      <th>55499</th>\n",
       "      <td>jAMES GARCiA</td>\n",
       "      <td>53</td>\n",
       "      <td>Female</td>\n",
       "      <td>O+</td>\n",
       "      <td>Arthritis</td>\n",
       "      <td>2024-04-02</td>\n",
       "      <td>Dennis Warren</td>\n",
       "      <td>Henry Sons and</td>\n",
       "      <td>Aetna</td>\n",
       "      <td>4010.134172</td>\n",
       "      <td>448</td>\n",
       "      <td>Urgent</td>\n",
       "      <td>2024-04-29</td>\n",
       "      <td>Ibuprofen</td>\n",
       "      <td>Abnormal</td>\n",
       "    </tr>\n",
       "  </tbody>\n",
       "</table>\n",
       "</div>"
      ],
      "text/plain": [
       "                    Name  Age  Gender Blood Type Medical Condition  \\\n",
       "55495  eLIZABeTH jaCkSOn   42  Female         O+            Asthma   \n",
       "55496         KYle pEREz   61  Female        AB-           Obesity   \n",
       "55497       HEATher WaNG   38  Female         B+      Hypertension   \n",
       "55498     JENniFER JOneS   43    Male         O-         Arthritis   \n",
       "55499       jAMES GARCiA   53  Female         O+         Arthritis   \n",
       "\n",
       "      Date of Admission           Doctor                      Hospital  \\\n",
       "55495        2020-08-16    Joshua Jarvis                Jones-Thompson   \n",
       "55496        2020-01-23  Taylor Sullivan                  Tucker-Moyer   \n",
       "55497        2020-07-13   Joe Jacobs DVM  and Mahoney Johnson Vasquez,   \n",
       "55498        2019-05-25   Kimberly Curry      Jackson Todd and Castro,   \n",
       "55499        2024-04-02    Dennis Warren                Henry Sons and   \n",
       "\n",
       "      Insurance Provider  Billing Amount  Room Number Admission Type  \\\n",
       "55495         Blue Cross     2650.714952          417       Elective   \n",
       "55496              Cigna    31457.797307          316       Elective   \n",
       "55497   UnitedHealthcare    27620.764717          347         Urgent   \n",
       "55498           Medicare    32451.092358          321       Elective   \n",
       "55499              Aetna     4010.134172          448         Urgent   \n",
       "\n",
       "      Discharge Date  Medication Test Results  \n",
       "55495     2020-09-15  Penicillin     Abnormal  \n",
       "55496     2020-02-01     Aspirin       Normal  \n",
       "55497     2020-08-10   Ibuprofen     Abnormal  \n",
       "55498     2019-05-31   Ibuprofen     Abnormal  \n",
       "55499     2024-04-29   Ibuprofen     Abnormal  "
      ]
     },
     "execution_count": 4,
     "metadata": {},
     "output_type": "execute_result"
    }
   ],
   "source": [
    "data.tail()"
   ]
  },
  {
   "cell_type": "code",
   "execution_count": 5,
   "id": "ad039f79",
   "metadata": {
    "execution": {
     "iopub.execute_input": "2024-09-20T16:30:45.672691Z",
     "iopub.status.busy": "2024-09-20T16:30:45.672305Z",
     "iopub.status.idle": "2024-09-20T16:30:45.679274Z",
     "shell.execute_reply": "2024-09-20T16:30:45.678097Z"
    },
    "papermill": {
     "duration": 0.018993,
     "end_time": "2024-09-20T16:30:45.681538",
     "exception": false,
     "start_time": "2024-09-20T16:30:45.662545",
     "status": "completed"
    },
    "tags": []
   },
   "outputs": [
    {
     "data": {
      "text/plain": [
       "(55500, 15)"
      ]
     },
     "execution_count": 5,
     "metadata": {},
     "output_type": "execute_result"
    }
   ],
   "source": [
    "data.shape"
   ]
  },
  {
   "cell_type": "code",
   "execution_count": 6,
   "id": "16450b58",
   "metadata": {
    "execution": {
     "iopub.execute_input": "2024-09-20T16:30:45.701683Z",
     "iopub.status.busy": "2024-09-20T16:30:45.701228Z",
     "iopub.status.idle": "2024-09-20T16:30:45.733321Z",
     "shell.execute_reply": "2024-09-20T16:30:45.732218Z"
    },
    "papermill": {
     "duration": 0.045067,
     "end_time": "2024-09-20T16:30:45.735807",
     "exception": false,
     "start_time": "2024-09-20T16:30:45.690740",
     "status": "completed"
    },
    "tags": []
   },
   "outputs": [
    {
     "data": {
      "text/html": [
       "<div>\n",
       "<style scoped>\n",
       "    .dataframe tbody tr th:only-of-type {\n",
       "        vertical-align: middle;\n",
       "    }\n",
       "\n",
       "    .dataframe tbody tr th {\n",
       "        vertical-align: top;\n",
       "    }\n",
       "\n",
       "    .dataframe thead th {\n",
       "        text-align: right;\n",
       "    }\n",
       "</style>\n",
       "<table border=\"1\" class=\"dataframe\">\n",
       "  <thead>\n",
       "    <tr style=\"text-align: right;\">\n",
       "      <th></th>\n",
       "      <th>Age</th>\n",
       "      <th>Billing Amount</th>\n",
       "      <th>Room Number</th>\n",
       "    </tr>\n",
       "  </thead>\n",
       "  <tbody>\n",
       "    <tr>\n",
       "      <th>count</th>\n",
       "      <td>55500.000000</td>\n",
       "      <td>55500.000000</td>\n",
       "      <td>55500.000000</td>\n",
       "    </tr>\n",
       "    <tr>\n",
       "      <th>mean</th>\n",
       "      <td>51.539459</td>\n",
       "      <td>25539.316097</td>\n",
       "      <td>301.134829</td>\n",
       "    </tr>\n",
       "    <tr>\n",
       "      <th>std</th>\n",
       "      <td>19.602454</td>\n",
       "      <td>14211.454431</td>\n",
       "      <td>115.243069</td>\n",
       "    </tr>\n",
       "    <tr>\n",
       "      <th>min</th>\n",
       "      <td>13.000000</td>\n",
       "      <td>-2008.492140</td>\n",
       "      <td>101.000000</td>\n",
       "    </tr>\n",
       "    <tr>\n",
       "      <th>25%</th>\n",
       "      <td>35.000000</td>\n",
       "      <td>13241.224652</td>\n",
       "      <td>202.000000</td>\n",
       "    </tr>\n",
       "    <tr>\n",
       "      <th>50%</th>\n",
       "      <td>52.000000</td>\n",
       "      <td>25538.069376</td>\n",
       "      <td>302.000000</td>\n",
       "    </tr>\n",
       "    <tr>\n",
       "      <th>75%</th>\n",
       "      <td>68.000000</td>\n",
       "      <td>37820.508436</td>\n",
       "      <td>401.000000</td>\n",
       "    </tr>\n",
       "    <tr>\n",
       "      <th>max</th>\n",
       "      <td>89.000000</td>\n",
       "      <td>52764.276736</td>\n",
       "      <td>500.000000</td>\n",
       "    </tr>\n",
       "  </tbody>\n",
       "</table>\n",
       "</div>"
      ],
      "text/plain": [
       "                Age  Billing Amount   Room Number\n",
       "count  55500.000000    55500.000000  55500.000000\n",
       "mean      51.539459    25539.316097    301.134829\n",
       "std       19.602454    14211.454431    115.243069\n",
       "min       13.000000    -2008.492140    101.000000\n",
       "25%       35.000000    13241.224652    202.000000\n",
       "50%       52.000000    25538.069376    302.000000\n",
       "75%       68.000000    37820.508436    401.000000\n",
       "max       89.000000    52764.276736    500.000000"
      ]
     },
     "execution_count": 6,
     "metadata": {},
     "output_type": "execute_result"
    }
   ],
   "source": [
    "data.describe()"
   ]
  },
  {
   "cell_type": "code",
   "execution_count": 7,
   "id": "472d3d78",
   "metadata": {
    "execution": {
     "iopub.execute_input": "2024-09-20T16:30:45.755343Z",
     "iopub.status.busy": "2024-09-20T16:30:45.754896Z",
     "iopub.status.idle": "2024-09-20T16:30:45.810674Z",
     "shell.execute_reply": "2024-09-20T16:30:45.809439Z"
    },
    "papermill": {
     "duration": 0.068409,
     "end_time": "2024-09-20T16:30:45.813237",
     "exception": false,
     "start_time": "2024-09-20T16:30:45.744828",
     "status": "completed"
    },
    "tags": []
   },
   "outputs": [
    {
     "name": "stdout",
     "output_type": "stream",
     "text": [
      "<class 'pandas.core.frame.DataFrame'>\n",
      "RangeIndex: 55500 entries, 0 to 55499\n",
      "Data columns (total 15 columns):\n",
      " #   Column              Non-Null Count  Dtype  \n",
      "---  ------              --------------  -----  \n",
      " 0   Name                55500 non-null  object \n",
      " 1   Age                 55500 non-null  int64  \n",
      " 2   Gender              55500 non-null  object \n",
      " 3   Blood Type          55500 non-null  object \n",
      " 4   Medical Condition   55500 non-null  object \n",
      " 5   Date of Admission   55500 non-null  object \n",
      " 6   Doctor              55500 non-null  object \n",
      " 7   Hospital            55500 non-null  object \n",
      " 8   Insurance Provider  55500 non-null  object \n",
      " 9   Billing Amount      55500 non-null  float64\n",
      " 10  Room Number         55500 non-null  int64  \n",
      " 11  Admission Type      55500 non-null  object \n",
      " 12  Discharge Date      55500 non-null  object \n",
      " 13  Medication          55500 non-null  object \n",
      " 14  Test Results        55500 non-null  object \n",
      "dtypes: float64(1), int64(2), object(12)\n",
      "memory usage: 6.4+ MB\n"
     ]
    }
   ],
   "source": [
    "data.info()"
   ]
  },
  {
   "cell_type": "code",
   "execution_count": 8,
   "id": "12ae1d15",
   "metadata": {
    "execution": {
     "iopub.execute_input": "2024-09-20T16:30:45.833278Z",
     "iopub.status.busy": "2024-09-20T16:30:45.832845Z",
     "iopub.status.idle": "2024-09-20T16:30:45.874833Z",
     "shell.execute_reply": "2024-09-20T16:30:45.873652Z"
    },
    "papermill": {
     "duration": 0.054736,
     "end_time": "2024-09-20T16:30:45.877236",
     "exception": false,
     "start_time": "2024-09-20T16:30:45.822500",
     "status": "completed"
    },
    "tags": []
   },
   "outputs": [
    {
     "data": {
      "text/plain": [
       "Name                  0\n",
       "Age                   0\n",
       "Gender                0\n",
       "Blood Type            0\n",
       "Medical Condition     0\n",
       "Date of Admission     0\n",
       "Doctor                0\n",
       "Hospital              0\n",
       "Insurance Provider    0\n",
       "Billing Amount        0\n",
       "Room Number           0\n",
       "Admission Type        0\n",
       "Discharge Date        0\n",
       "Medication            0\n",
       "Test Results          0\n",
       "dtype: int64"
      ]
     },
     "execution_count": 8,
     "metadata": {},
     "output_type": "execute_result"
    }
   ],
   "source": [
    "data.isnull().sum()"
   ]
  },
  {
   "cell_type": "code",
   "execution_count": 9,
   "id": "fffa82be",
   "metadata": {
    "execution": {
     "iopub.execute_input": "2024-09-20T16:30:45.898071Z",
     "iopub.status.busy": "2024-09-20T16:30:45.897021Z",
     "iopub.status.idle": "2024-09-20T16:30:45.986130Z",
     "shell.execute_reply": "2024-09-20T16:30:45.985029Z"
    },
    "papermill": {
     "duration": 0.101879,
     "end_time": "2024-09-20T16:30:45.988590",
     "exception": false,
     "start_time": "2024-09-20T16:30:45.886711",
     "status": "completed"
    },
    "tags": []
   },
   "outputs": [
    {
     "data": {
      "text/plain": [
       "0        False\n",
       "1        False\n",
       "2        False\n",
       "3        False\n",
       "4        False\n",
       "         ...  \n",
       "55495    False\n",
       "55496    False\n",
       "55497    False\n",
       "55498    False\n",
       "55499    False\n",
       "Length: 55500, dtype: bool"
      ]
     },
     "execution_count": 9,
     "metadata": {},
     "output_type": "execute_result"
    }
   ],
   "source": [
    "data.duplicated()"
   ]
  },
  {
   "cell_type": "code",
   "execution_count": 10,
   "id": "57ae5f7d",
   "metadata": {
    "execution": {
     "iopub.execute_input": "2024-09-20T16:30:46.008511Z",
     "iopub.status.busy": "2024-09-20T16:30:46.008080Z",
     "iopub.status.idle": "2024-09-20T16:30:46.015512Z",
     "shell.execute_reply": "2024-09-20T16:30:46.014272Z"
    },
    "papermill": {
     "duration": 0.020253,
     "end_time": "2024-09-20T16:30:46.017906",
     "exception": false,
     "start_time": "2024-09-20T16:30:45.997653",
     "status": "completed"
    },
    "tags": []
   },
   "outputs": [
    {
     "data": {
      "text/plain": [
       "Index(['Name', 'Age', 'Gender', 'Blood Type', 'Medical Condition',\n",
       "       'Date of Admission', 'Doctor', 'Hospital', 'Insurance Provider',\n",
       "       'Billing Amount', 'Room Number', 'Admission Type', 'Discharge Date',\n",
       "       'Medication', 'Test Results'],\n",
       "      dtype='object')"
      ]
     },
     "execution_count": 10,
     "metadata": {},
     "output_type": "execute_result"
    }
   ],
   "source": [
    "data.columns"
   ]
  },
  {
   "cell_type": "code",
   "execution_count": 11,
   "id": "2c651038",
   "metadata": {
    "execution": {
     "iopub.execute_input": "2024-09-20T16:30:46.038204Z",
     "iopub.status.busy": "2024-09-20T16:30:46.037779Z",
     "iopub.status.idle": "2024-09-20T16:30:46.048506Z",
     "shell.execute_reply": "2024-09-20T16:30:46.047326Z"
    },
    "papermill": {
     "duration": 0.023673,
     "end_time": "2024-09-20T16:30:46.050931",
     "exception": false,
     "start_time": "2024-09-20T16:30:46.027258",
     "status": "completed"
    },
    "tags": []
   },
   "outputs": [
    {
     "data": {
      "text/plain": [
       "array(['Normal', 'Inconclusive', 'Abnormal'], dtype=object)"
      ]
     },
     "execution_count": 11,
     "metadata": {},
     "output_type": "execute_result"
    }
   ],
   "source": [
    "data['Test Results'].unique()"
   ]
  },
  {
   "cell_type": "markdown",
   "id": "db91c31b",
   "metadata": {
    "papermill": {
     "duration": 0.009046,
     "end_time": "2024-09-20T16:30:46.069517",
     "exception": false,
     "start_time": "2024-09-20T16:30:46.060471",
     "status": "completed"
    },
    "tags": []
   },
   "source": [
    "## 4- Data preprocessing "
   ]
  },
  {
   "cell_type": "code",
   "execution_count": 12,
   "id": "ee52c2da",
   "metadata": {
    "execution": {
     "iopub.execute_input": "2024-09-20T16:30:46.089699Z",
     "iopub.status.busy": "2024-09-20T16:30:46.089293Z",
     "iopub.status.idle": "2024-09-20T16:30:46.094089Z",
     "shell.execute_reply": "2024-09-20T16:30:46.092847Z"
    },
    "papermill": {
     "duration": 0.017757,
     "end_time": "2024-09-20T16:30:46.096537",
     "exception": false,
     "start_time": "2024-09-20T16:30:46.078780",
     "status": "completed"
    },
    "tags": []
   },
   "outputs": [],
   "source": [
    "# Initialize the LabelEncoder\n",
    "label_encoder = LabelEncoder()"
   ]
  },
  {
   "cell_type": "code",
   "execution_count": 13,
   "id": "77fb2020",
   "metadata": {
    "execution": {
     "iopub.execute_input": "2024-09-20T16:30:46.117064Z",
     "iopub.status.busy": "2024-09-20T16:30:46.116620Z",
     "iopub.status.idle": "2024-09-20T16:30:46.204097Z",
     "shell.execute_reply": "2024-09-20T16:30:46.202945Z"
    },
    "papermill": {
     "duration": 0.1008,
     "end_time": "2024-09-20T16:30:46.206811",
     "exception": false,
     "start_time": "2024-09-20T16:30:46.106011",
     "status": "completed"
    },
    "tags": []
   },
   "outputs": [],
   "source": [
    "# Apply LabelEncoder on the categorical column\n",
    "data[ 'Gender'] = label_encoder.fit_transform(data[ 'Gender'])\n",
    "data['Blood Type'] = label_encoder.fit_transform(data['Blood Type'])\n",
    "data['Medical Condition'] = label_encoder.fit_transform(data['Medical Condition'])\n",
    "data['Insurance Provider'] = label_encoder.fit_transform(data['Insurance Provider'])\n",
    "data['Admission Type'] = label_encoder.fit_transform(data['Admission Type'])\n",
    "data['Medication'] = label_encoder.fit_transform(data['Medication'])\n",
    "data['Test Results'] = label_encoder.fit_transform(data['Test Results'])"
   ]
  },
  {
   "cell_type": "markdown",
   "id": "2c2ce2df",
   "metadata": {
    "papermill": {
     "duration": 0.009128,
     "end_time": "2024-09-20T16:30:46.225752",
     "exception": false,
     "start_time": "2024-09-20T16:30:46.216624",
     "status": "completed"
    },
    "tags": []
   },
   "source": [
    "## 5- Spiliting the data "
   ]
  },
  {
   "cell_type": "code",
   "execution_count": 14,
   "id": "2b37736f",
   "metadata": {
    "execution": {
     "iopub.execute_input": "2024-09-20T16:30:46.247485Z",
     "iopub.status.busy": "2024-09-20T16:30:46.246987Z",
     "iopub.status.idle": "2024-09-20T16:30:46.258090Z",
     "shell.execute_reply": "2024-09-20T16:30:46.257026Z"
    },
    "papermill": {
     "duration": 0.025619,
     "end_time": "2024-09-20T16:30:46.260733",
     "exception": false,
     "start_time": "2024-09-20T16:30:46.235114",
     "status": "completed"
    },
    "tags": []
   },
   "outputs": [],
   "source": [
    "X = data[['Age', 'Gender', 'Blood Type', 'Medical Condition','Insurance Provider',\n",
    "       'Billing Amount', 'Room Number', 'Admission Type','Medication']]\n",
    "y = data[['Test Results']]"
   ]
  },
  {
   "cell_type": "code",
   "execution_count": 15,
   "id": "c653a3e8",
   "metadata": {
    "execution": {
     "iopub.execute_input": "2024-09-20T16:30:46.281296Z",
     "iopub.status.busy": "2024-09-20T16:30:46.280861Z",
     "iopub.status.idle": "2024-09-20T16:30:46.298382Z",
     "shell.execute_reply": "2024-09-20T16:30:46.297175Z"
    },
    "papermill": {
     "duration": 0.030782,
     "end_time": "2024-09-20T16:30:46.300961",
     "exception": false,
     "start_time": "2024-09-20T16:30:46.270179",
     "status": "completed"
    },
    "tags": []
   },
   "outputs": [],
   "source": [
    "# Splitting data into 80% training and 20% testing\n",
    "X_train, X_test, y_train, y_test = train_test_split(X, y, test_size=0.2, random_state=42)"
   ]
  },
  {
   "cell_type": "markdown",
   "id": "89be9a2b",
   "metadata": {
    "papermill": {
     "duration": 0.009284,
     "end_time": "2024-09-20T16:30:46.321591",
     "exception": false,
     "start_time": "2024-09-20T16:30:46.312307",
     "status": "completed"
    },
    "tags": []
   },
   "source": [
    "## 6- Building the model "
   ]
  },
  {
   "cell_type": "code",
   "execution_count": 16,
   "id": "204e3ae7",
   "metadata": {
    "execution": {
     "iopub.execute_input": "2024-09-20T16:30:46.343017Z",
     "iopub.status.busy": "2024-09-20T16:30:46.342599Z",
     "iopub.status.idle": "2024-09-20T16:30:46.430696Z",
     "shell.execute_reply": "2024-09-20T16:30:46.429525Z"
    },
    "papermill": {
     "duration": 0.101531,
     "end_time": "2024-09-20T16:30:46.433205",
     "exception": false,
     "start_time": "2024-09-20T16:30:46.331674",
     "status": "completed"
    },
    "tags": []
   },
   "outputs": [
    {
     "name": "stderr",
     "output_type": "stream",
     "text": [
      "/opt/conda/lib/python3.10/site-packages/keras/src/layers/core/dense.py:87: UserWarning: Do not pass an `input_shape`/`input_dim` argument to a layer. When using Sequential models, prefer using an `Input(shape)` object as the first layer in the model instead.\n",
      "  super().__init__(activity_regularizer=activity_regularizer, **kwargs)\n"
     ]
    }
   ],
   "source": [
    "# Create the neural network model\n",
    "model = Sequential([\n",
    "    Dense(8, activation='relu', input_shape=(X_train.shape[1],)),  # Input layer\n",
    "    Dense(8, activation='relu'),  # Hidden layer\n",
    "    Dense(3, activation='softmax')  # Output layer (3 classes for the Iris dataset)\n",
    "])"
   ]
  },
  {
   "cell_type": "code",
   "execution_count": 17,
   "id": "5296e581",
   "metadata": {
    "execution": {
     "iopub.execute_input": "2024-09-20T16:30:46.454818Z",
     "iopub.status.busy": "2024-09-20T16:30:46.454395Z",
     "iopub.status.idle": "2024-09-20T16:30:46.470927Z",
     "shell.execute_reply": "2024-09-20T16:30:46.469739Z"
    },
    "papermill": {
     "duration": 0.030713,
     "end_time": "2024-09-20T16:30:46.473593",
     "exception": false,
     "start_time": "2024-09-20T16:30:46.442880",
     "status": "completed"
    },
    "tags": []
   },
   "outputs": [],
   "source": [
    "# Compile the model\n",
    "model.compile(optimizer='adam',\n",
    "              loss='sparse_categorical_crossentropy',\n",
    "              metrics=['accuracy'])"
   ]
  },
  {
   "cell_type": "code",
   "execution_count": 18,
   "id": "57c07f28",
   "metadata": {
    "execution": {
     "iopub.execute_input": "2024-09-20T16:30:46.494311Z",
     "iopub.status.busy": "2024-09-20T16:30:46.493878Z",
     "iopub.status.idle": "2024-09-20T16:32:03.239961Z",
     "shell.execute_reply": "2024-09-20T16:32:03.238813Z"
    },
    "papermill": {
     "duration": 76.759332,
     "end_time": "2024-09-20T16:32:03.242456",
     "exception": false,
     "start_time": "2024-09-20T16:30:46.483124",
     "status": "completed"
    },
    "tags": []
   },
   "outputs": [
    {
     "name": "stdout",
     "output_type": "stream",
     "text": [
      "Epoch 1/10\n",
      "\u001b[1m5550/5550\u001b[0m \u001b[32m━━━━━━━━━━━━━━━━━━━━\u001b[0m\u001b[37m\u001b[0m \u001b[1m8s\u001b[0m 1ms/step - accuracy: 0.3268 - loss: 178.7273\n",
      "Epoch 2/10\n",
      "\u001b[1m5550/5550\u001b[0m \u001b[32m━━━━━━━━━━━━━━━━━━━━\u001b[0m\u001b[37m\u001b[0m \u001b[1m7s\u001b[0m 1ms/step - accuracy: 0.3296 - loss: 8.2881\n",
      "Epoch 3/10\n",
      "\u001b[1m5550/5550\u001b[0m \u001b[32m━━━━━━━━━━━━━━━━━━━━\u001b[0m\u001b[37m\u001b[0m \u001b[1m7s\u001b[0m 1ms/step - accuracy: 0.3319 - loss: 6.1828\n",
      "Epoch 4/10\n",
      "\u001b[1m5550/5550\u001b[0m \u001b[32m━━━━━━━━━━━━━━━━━━━━\u001b[0m\u001b[37m\u001b[0m \u001b[1m7s\u001b[0m 1ms/step - accuracy: 0.3347 - loss: 5.4346\n",
      "Epoch 5/10\n",
      "\u001b[1m5550/5550\u001b[0m \u001b[32m━━━━━━━━━━━━━━━━━━━━\u001b[0m\u001b[37m\u001b[0m \u001b[1m7s\u001b[0m 1ms/step - accuracy: 0.3306 - loss: 4.8689\n",
      "Epoch 6/10\n",
      "\u001b[1m5550/5550\u001b[0m \u001b[32m━━━━━━━━━━━━━━━━━━━━\u001b[0m\u001b[37m\u001b[0m \u001b[1m7s\u001b[0m 1ms/step - accuracy: 0.3341 - loss: 4.4415\n",
      "Epoch 7/10\n",
      "\u001b[1m5550/5550\u001b[0m \u001b[32m━━━━━━━━━━━━━━━━━━━━\u001b[0m\u001b[37m\u001b[0m \u001b[1m7s\u001b[0m 1ms/step - accuracy: 0.3309 - loss: 3.8810\n",
      "Epoch 8/10\n",
      "\u001b[1m5550/5550\u001b[0m \u001b[32m━━━━━━━━━━━━━━━━━━━━\u001b[0m\u001b[37m\u001b[0m \u001b[1m7s\u001b[0m 1ms/step - accuracy: 0.3334 - loss: 2.8701\n",
      "Epoch 9/10\n",
      "\u001b[1m5550/5550\u001b[0m \u001b[32m━━━━━━━━━━━━━━━━━━━━\u001b[0m\u001b[37m\u001b[0m \u001b[1m10s\u001b[0m 1ms/step - accuracy: 0.3312 - loss: 1.9989\n",
      "Epoch 10/10\n",
      "\u001b[1m5550/5550\u001b[0m \u001b[32m━━━━━━━━━━━━━━━━━━━━\u001b[0m\u001b[37m\u001b[0m \u001b[1m7s\u001b[0m 1ms/step - accuracy: 0.3330 - loss: 1.1080\n"
     ]
    },
    {
     "data": {
      "text/plain": [
       "<keras.src.callbacks.history.History at 0x7df0590636d0>"
      ]
     },
     "execution_count": 18,
     "metadata": {},
     "output_type": "execute_result"
    }
   ],
   "source": [
    "# Train the model\n",
    "model.fit(X_train, y_train, epochs=10, batch_size=8, verbose=1)"
   ]
  },
  {
   "cell_type": "markdown",
   "id": "44c6bf65",
   "metadata": {
    "papermill": {
     "duration": 0.104183,
     "end_time": "2024-09-20T16:32:03.453903",
     "exception": false,
     "start_time": "2024-09-20T16:32:03.349720",
     "status": "completed"
    },
    "tags": []
   },
   "source": [
    "## 7- Evaluating the model "
   ]
  },
  {
   "cell_type": "code",
   "execution_count": 19,
   "id": "a1b7b5bf",
   "metadata": {
    "execution": {
     "iopub.execute_input": "2024-09-20T16:32:03.723770Z",
     "iopub.status.busy": "2024-09-20T16:32:03.723356Z",
     "iopub.status.idle": "2024-09-20T16:32:04.409141Z",
     "shell.execute_reply": "2024-09-20T16:32:04.407777Z"
    },
    "papermill": {
     "duration": 0.853455,
     "end_time": "2024-09-20T16:32:04.411768",
     "exception": false,
     "start_time": "2024-09-20T16:32:03.558313",
     "status": "completed"
    },
    "tags": []
   },
   "outputs": [
    {
     "name": "stdout",
     "output_type": "stream",
     "text": [
      "\u001b[1m347/347\u001b[0m \u001b[32m━━━━━━━━━━━━━━━━━━━━\u001b[0m\u001b[37m\u001b[0m \u001b[1m0s\u001b[0m 1ms/step\n"
     ]
    }
   ],
   "source": [
    "# Make predictions\n",
    "y_pred = model.predict(X_test)\n",
    "y_pred_classes = np.argmax(y_pred, axis=1)"
   ]
  },
  {
   "cell_type": "code",
   "execution_count": 20,
   "id": "5675843c",
   "metadata": {
    "execution": {
     "iopub.execute_input": "2024-09-20T16:32:04.628327Z",
     "iopub.status.busy": "2024-09-20T16:32:04.627624Z",
     "iopub.status.idle": "2024-09-20T16:32:04.638809Z",
     "shell.execute_reply": "2024-09-20T16:32:04.637241Z"
    },
    "papermill": {
     "duration": 0.123451,
     "end_time": "2024-09-20T16:32:04.641340",
     "exception": false,
     "start_time": "2024-09-20T16:32:04.517889",
     "status": "completed"
    },
    "tags": []
   },
   "outputs": [
    {
     "name": "stdout",
     "output_type": "stream",
     "text": [
      "Accuracy: 0.34\n"
     ]
    }
   ],
   "source": [
    "# Evaluate the model\n",
    "accuracy = accuracy_score(y_test, y_pred_classes)\n",
    "print(f'Accuracy: {accuracy:.2f}')"
   ]
  },
  {
   "cell_type": "markdown",
   "id": "8c9820fa",
   "metadata": {
    "papermill": {
     "duration": 0.106293,
     "end_time": "2024-09-20T16:32:04.853883",
     "exception": false,
     "start_time": "2024-09-20T16:32:04.747590",
     "status": "completed"
    },
    "tags": []
   },
   "source": [
    "## 8- Data visualization "
   ]
  },
  {
   "cell_type": "code",
   "execution_count": 21,
   "id": "2cdc0e6b",
   "metadata": {
    "execution": {
     "iopub.execute_input": "2024-09-20T16:32:05.077563Z",
     "iopub.status.busy": "2024-09-20T16:32:05.077129Z",
     "iopub.status.idle": "2024-09-20T16:32:05.325044Z",
     "shell.execute_reply": "2024-09-20T16:32:05.323848Z"
    },
    "papermill": {
     "duration": 0.366619,
     "end_time": "2024-09-20T16:32:05.327865",
     "exception": false,
     "start_time": "2024-09-20T16:32:04.961246",
     "status": "completed"
    },
    "tags": []
   },
   "outputs": [
    {
     "data": {
      "image/png": "[encoded data removed]",
      "text/plain": [
       "<Figure size 600x400 with 1 Axes>"
      ]
     },
     "metadata": {},
     "output_type": "display_data"
    }
   ],
   "source": [
    "df = pd.DataFrame(data)\n",
    "\n",
    "# 1. Bar Plot of Gender Distribution\n",
    "plt.figure(figsize=(6, 4))\n",
    "sns.countplot(x='Gender', data=df)\n",
    "plt.title('Gender Distribution')\n",
    "plt.show()"
   ]
  },
  {
   "cell_type": "code",
   "execution_count": 22,
   "id": "e6af571a",
   "metadata": {
    "execution": {
     "iopub.execute_input": "2024-09-20T16:32:05.568613Z",
     "iopub.status.busy": "2024-09-20T16:32:05.568134Z",
     "iopub.status.idle": "2024-09-20T16:32:05.771577Z",
     "shell.execute_reply": "2024-09-20T16:32:05.770248Z"
    },
    "papermill": {
     "duration": 0.318222,
     "end_time": "2024-09-20T16:32:05.775098",
     "exception": false,
     "start_time": "2024-09-20T16:32:05.456876",
     "status": "completed"
    },
    "tags": []
   },
   "outputs": [
    {
     "data": {
      "image/png": "[encoded data removed]",
      "text/plain": [
       "<Figure size 600x600 with 1 Axes>"
      ]
     },
     "metadata": {},
     "output_type": "display_data"
    }
   ],
   "source": [
    "# 2. Pie Chart of Medical Condition Distribution\n",
    "plt.figure(figsize=(6, 6))\n",
    "df['Medical Condition'].value_counts().plot.pie(autopct='%1.1f%%')\n",
    "plt.title('Medical Condition Distribution')\n",
    "plt.ylabel('')\n",
    "plt.show()"
   ]
  },
  {
   "cell_type": "code",
   "execution_count": 23,
   "id": "12a5cd5a",
   "metadata": {
    "execution": {
     "iopub.execute_input": "2024-09-20T16:32:06.011756Z",
     "iopub.status.busy": "2024-09-20T16:32:06.011339Z",
     "iopub.status.idle": "2024-09-20T16:32:06.241014Z",
     "shell.execute_reply": "2024-09-20T16:32:06.239674Z"
    },
    "papermill": {
     "duration": 0.339711,
     "end_time": "2024-09-20T16:32:06.243570",
     "exception": false,
     "start_time": "2024-09-20T16:32:05.903859",
     "status": "completed"
    },
    "tags": []
   },
   "outputs": [
    {
     "data": {
      "image/png": "[encoded data removed]",
      "text/plain": [
       "<Figure size 600x400 with 1 Axes>"
      ]
     },
     "metadata": {},
     "output_type": "display_data"
    }
   ],
   "source": [
    "# 3. Histogram of Age Distribution\n",
    "plt.figure(figsize=(6, 4))\n",
    "plt.hist(df['Age'], bins=5, color='skyblue', edgecolor='black')\n",
    "plt.title('Age Distribution')\n",
    "plt.xlabel('Age')\n",
    "plt.ylabel('Frequency')\n",
    "plt.show()"
   ]
  },
  {
   "cell_type": "code",
   "execution_count": 24,
   "id": "fdbb725d",
   "metadata": {
    "execution": {
     "iopub.execute_input": "2024-09-20T16:32:06.462986Z",
     "iopub.status.busy": "2024-09-20T16:32:06.462561Z",
     "iopub.status.idle": "2024-09-20T16:32:06.694937Z",
     "shell.execute_reply": "2024-09-20T16:32:06.693742Z"
    },
    "papermill": {
     "duration": 0.343715,
     "end_time": "2024-09-20T16:32:06.697380",
     "exception": false,
     "start_time": "2024-09-20T16:32:06.353665",
     "status": "completed"
    },
    "tags": []
   },
   "outputs": [
    {
     "data": {
      "image/png": "[encoded data removed]",
      "text/plain": [
       "<Figure size 600x400 with 1 Axes>"
      ]
     },
     "metadata": {},
     "output_type": "display_data"
    }
   ],
   "source": [
    "# 4. Box Plot of Billing Amount by Gender\n",
    "plt.figure(figsize=(6, 4))\n",
    "sns.boxplot(x='Gender', y='Billing Amount', data=df)\n",
    "plt.title('Billing Amount by Gender')\n",
    "plt.show()"
   ]
  },
  {
   "cell_type": "code",
   "execution_count": 25,
   "id": "6baf0a1c",
   "metadata": {
    "execution": {
     "iopub.execute_input": "2024-09-20T16:32:06.917767Z",
     "iopub.status.busy": "2024-09-20T16:32:06.917328Z",
     "iopub.status.idle": "2024-09-20T16:32:07.310540Z",
     "shell.execute_reply": "2024-09-20T16:32:07.308977Z"
    },
    "papermill": {
     "duration": 0.506725,
     "end_time": "2024-09-20T16:32:07.313174",
     "exception": false,
     "start_time": "2024-09-20T16:32:06.806449",
     "status": "completed"
    },
    "tags": []
   },
   "outputs": [
    {
     "data": {
      "image/png": "[encoded data removed]",
      "text/plain": [
       "<Figure size 600x400 with 1 Axes>"
      ]
     },
     "metadata": {},
     "output_type": "display_data"
    }
   ],
   "source": [
    "# 5. Scatter Plot of Age vs Billing Amount\n",
    "plt.figure(figsize=(6, 4))\n",
    "plt.scatter(df['Age'], df['Billing Amount'], color='green')\n",
    "plt.title('Age vs Billing Amount')\n",
    "plt.xlabel('Age')\n",
    "plt.ylabel('Billing Amount')\n",
    "plt.show()"
   ]
  },
  {
   "cell_type": "code",
   "execution_count": 26,
   "id": "7c440880",
   "metadata": {
    "execution": {
     "iopub.execute_input": "2024-09-20T16:32:07.537030Z",
     "iopub.status.busy": "2024-09-20T16:32:07.536592Z",
     "iopub.status.idle": "2024-09-20T16:32:11.920418Z",
     "shell.execute_reply": "2024-09-20T16:32:11.919293Z"
    },
    "papermill": {
     "duration": 4.49837,
     "end_time": "2024-09-20T16:32:11.922905",
     "exception": false,
     "start_time": "2024-09-20T16:32:07.424535",
     "status": "completed"
    },
    "tags": []
   },
   "outputs": [
    {
     "data": {
      "image/png": "[encoded data removed]",
      "text/plain": [
       "<Figure size 600x400 with 1 Axes>"
      ]
     },
     "metadata": {},
     "output_type": "display_data"
    }
   ],
   "source": [
    "# Convert 'Date of Admission' to datetime\n",
    "df['Date of Admission'] = pd.to_datetime(df['Date of Admission'])\n",
    "\n",
    "# 6. Line Plot of Billing Amount over Time\n",
    "plt.figure(figsize=(6, 4))\n",
    "plt.plot(df['Date of Admission'], df['Billing Amount'], marker='o')\n",
    "plt.title('Billing Amount over Time')\n",
    "plt.xlabel('Date of Admission')\n",
    "plt.ylabel('Billing Amount')\n",
    "plt.show()"
   ]
  },
  {
   "cell_type": "code",
   "execution_count": 27,
   "id": "2f70e5ef",
   "metadata": {
    "execution": {
     "iopub.execute_input": "2024-09-20T16:32:12.147322Z",
     "iopub.status.busy": "2024-09-20T16:32:12.146853Z",
     "iopub.status.idle": "2024-09-20T16:32:12.659298Z",
     "shell.execute_reply": "2024-09-20T16:32:12.658179Z"
    },
    "papermill": {
     "duration": 0.628322,
     "end_time": "2024-09-20T16:32:12.661725",
     "exception": false,
     "start_time": "2024-09-20T16:32:12.033403",
     "status": "completed"
    },
    "tags": []
   },
   "outputs": [
    {
     "data": {
      "image/png": "[encoded data removed]",
      "text/plain": [
       "<Figure size 600x400 with 1 Axes>"
      ]
     },
     "metadata": {},
     "output_type": "display_data"
    }
   ],
   "source": [
    "# 7. Count Plot of Admission Type\n",
    "plt.figure(figsize=(6, 4))\n",
    "sns.countplot(x='Admission Type', data=df)\n",
    "plt.title('Admission Type Distribution')\n",
    "plt.show()"
   ]
  },
  {
   "cell_type": "code",
   "execution_count": 28,
   "id": "a0bcb861",
   "metadata": {
    "execution": {
     "iopub.execute_input": "2024-09-20T16:32:12.887213Z",
     "iopub.status.busy": "2024-09-20T16:32:12.886728Z",
     "iopub.status.idle": "2024-09-20T16:32:13.101331Z",
     "shell.execute_reply": "2024-09-20T16:32:13.100042Z"
    },
    "papermill": {
     "duration": 0.32844,
     "end_time": "2024-09-20T16:32:13.103829",
     "exception": false,
     "start_time": "2024-09-20T16:32:12.775389",
     "status": "completed"
    },
    "tags": []
   },
   "outputs": [
    {
     "data": {
      "image/png": "[encoded data removed]",
      "text/plain": [
       "<Figure size 600x400 with 1 Axes>"
      ]
     },
     "metadata": {},
     "output_type": "display_data"
    }
   ],
   "source": [
    "# 8. Bar Plot of Test Results by Gender\n",
    "plt.figure(figsize=(6, 4))\n",
    "sns.countplot(x='Test Results', hue='Gender', data=df)\n",
    "plt.title('Test Results by Gender')\n",
    "plt.show()"
   ]
  },
  {
   "cell_type": "code",
   "execution_count": 29,
   "id": "159970ba",
   "metadata": {
    "execution": {
     "iopub.execute_input": "2024-09-20T16:32:13.389724Z",
     "iopub.status.busy": "2024-09-20T16:32:13.389286Z",
     "iopub.status.idle": "2024-09-20T16:32:13.944321Z",
     "shell.execute_reply": "2024-09-20T16:32:13.943177Z"
    },
    "papermill": {
     "duration": 0.728658,
     "end_time": "2024-09-20T16:32:13.946683",
     "exception": false,
     "start_time": "2024-09-20T16:32:13.218025",
     "status": "completed"
    },
    "tags": []
   },
   "outputs": [
    {
     "data": {
      "image/png": "[encoded data removed]",
      "text/plain": [
       "<Figure size 600x400 with 1 Axes>"
      ]
     },
     "metadata": {},
     "output_type": "display_data"
    }
   ],
   "source": [
    "# 9. Violin Plot of Billing Amount by Blood Type\n",
    "plt.figure(figsize=(6, 4))\n",
    "sns.violinplot(x='Blood Type', y='Billing Amount', data=df)\n",
    "plt.title('Billing Amount by Blood Type')\n",
    "plt.show()"
   ]
  }
 ],
 "metadata": {
  "kaggle": {
   "accelerator": "none",
   "dataSources": [
    {
     "datasetId": 3934836,
     "sourceId": 8356547,
     "sourceType": "datasetVersion"
    }
   ],
   "dockerImageVersionId": 30761,
   "isGpuEnabled": false,
   "isInternetEnabled": true,
   "language": "python",
   "sourceType": "notebook"
  },
  "kernelspec": {
   "display_name": "Python 3",
   "language": "python",
   "name": "python3"
  },
  "language_info": {
   "codemirror_mode": {
    "name": "ipython",
    "version": 3
   },
   "file_extension": ".py",
   "mimetype": "text/x-python",
   "name": "python",
   "nbconvert_exporter": "python",
   "pygments_lexer": "ipython3",
   "version": "3.10.14"
  },
  "papermill": {
   "default_parameters": {},
   "duration": 110.068644,
   "end_time": "2024-09-20T16:32:15.783623",
   "environment_variables": {},
   "exception": null,
   "input_path": "__notebook__.ipynb",
   "output_path": "__notebook__.ipynb",
   "parameters": {},
   "start_time": "2024-09-20T16:30:25.714979",
   "version": "2.6.0"
  }
 },
 "nbformat": 4,
 "nbformat_minor": 5
}
