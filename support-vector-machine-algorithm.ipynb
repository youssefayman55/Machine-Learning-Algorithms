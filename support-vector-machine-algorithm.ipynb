{
 "cells": [
  {
   "cell_type": "markdown",
   "id": "2d6a7a7d",
   "metadata": {
    "papermill": {
     "duration": 0.009788,
     "end_time": "2024-09-20T16:15:10.235036",
     "exception": false,
     "start_time": "2024-09-20T16:15:10.225248",
     "status": "completed"
    },
    "tags": []
   },
   "source": [
    "## 1- import libraries "
   ]
  },
  {
   "cell_type": "code",
   "execution_count": 1,
   "id": "f8c1d490",
   "metadata": {
    "execution": {
     "iopub.execute_input": "2024-09-20T16:15:10.255327Z",
     "iopub.status.busy": "2024-09-20T16:15:10.254775Z",
     "iopub.status.idle": "2024-09-20T16:15:12.635767Z",
     "shell.execute_reply": "2024-09-20T16:15:12.634773Z"
    },
    "papermill": {
     "duration": 2.394156,
     "end_time": "2024-09-20T16:15:12.638517",
     "exception": false,
     "start_time": "2024-09-20T16:15:10.244361",
     "status": "completed"
    },
    "tags": []
   },
   "outputs": [],
   "source": [
    "import pandas as pd \n",
    "import numpy as np\n",
    "import matplotlib.pyplot as plt\n",
    "import seaborn as sns\n",
    "\n",
    "\n",
    "from sklearn.model_selection import train_test_split\n",
    "\n",
    "from sklearn.svm import SVC\n",
    "\n",
    "from sklearn.metrics import accuracy_score\n",
    "from sklearn.metrics import confusion_matrix"
   ]
  },
  {
   "cell_type": "markdown",
   "id": "3ba1099b",
   "metadata": {
    "papermill": {
     "duration": 0.008475,
     "end_time": "2024-09-20T16:15:12.655983",
     "exception": false,
     "start_time": "2024-09-20T16:15:12.647508",
     "status": "completed"
    },
    "tags": []
   },
   "source": [
    "## 2- Reading the data "
   ]
  },
  {
   "cell_type": "code",
   "execution_count": 2,
   "id": "2bfcb6b8",
   "metadata": {
    "execution": {
     "iopub.execute_input": "2024-09-20T16:15:12.676352Z",
     "iopub.status.busy": "2024-09-20T16:15:12.674943Z",
     "iopub.status.idle": "2024-09-20T16:15:12.696881Z",
     "shell.execute_reply": "2024-09-20T16:15:12.695734Z"
    },
    "papermill": {
     "duration": 0.034795,
     "end_time": "2024-09-20T16:15:12.699586",
     "exception": false,
     "start_time": "2024-09-20T16:15:12.664791",
     "status": "completed"
    },
    "tags": []
   },
   "outputs": [],
   "source": [
    "data = pd.read_csv(r\"/kaggle/input/student-performance-predictions/student_performance.csv\")"
   ]
  },
  {
   "cell_type": "markdown",
   "id": "6da2f9f8",
   "metadata": {
    "papermill": {
     "duration": 0.008657,
     "end_time": "2024-09-20T16:15:12.717296",
     "exception": false,
     "start_time": "2024-09-20T16:15:12.708639",
     "status": "completed"
    },
    "tags": []
   },
   "source": [
    "## 3- Data analysis "
   ]
  },
  {
   "cell_type": "code",
   "execution_count": 3,
   "id": "c93be9eb",
   "metadata": {
    "execution": {
     "iopub.execute_input": "2024-09-20T16:15:12.737129Z",
     "iopub.status.busy": "2024-09-20T16:15:12.736143Z",
     "iopub.status.idle": "2024-09-20T16:15:12.758344Z",
     "shell.execute_reply": "2024-09-20T16:15:12.757228Z"
    },
    "papermill": {
     "duration": 0.03456,
     "end_time": "2024-09-20T16:15:12.760814",
     "exception": false,
     "start_time": "2024-09-20T16:15:12.726254",
     "status": "completed"
    },
    "tags": []
   },
   "outputs": [
    {
     "data": {
      "text/html": [
       "<div>\n",
       "<style scoped>\n",
       "    .dataframe tbody tr th:only-of-type {\n",
       "        vertical-align: middle;\n",
       "    }\n",
       "\n",
       "    .dataframe tbody tr th {\n",
       "        vertical-align: top;\n",
       "    }\n",
       "\n",
       "    .dataframe thead th {\n",
       "        text-align: right;\n",
       "    }\n",
       "</style>\n",
       "<table border=\"1\" class=\"dataframe\">\n",
       "  <thead>\n",
       "    <tr style=\"text-align: right;\">\n",
       "      <th></th>\n",
       "      <th>StudentID</th>\n",
       "      <th>Name</th>\n",
       "      <th>Gender</th>\n",
       "      <th>AttendanceRate</th>\n",
       "      <th>StudyHoursPerWeek</th>\n",
       "      <th>PreviousGrade</th>\n",
       "      <th>ExtracurricularActivities</th>\n",
       "      <th>ParentalSupport</th>\n",
       "      <th>FinalGrade</th>\n",
       "    </tr>\n",
       "  </thead>\n",
       "  <tbody>\n",
       "    <tr>\n",
       "      <th>0</th>\n",
       "      <td>1</td>\n",
       "      <td>John</td>\n",
       "      <td>Male</td>\n",
       "      <td>85</td>\n",
       "      <td>15</td>\n",
       "      <td>78</td>\n",
       "      <td>1</td>\n",
       "      <td>High</td>\n",
       "      <td>80</td>\n",
       "    </tr>\n",
       "    <tr>\n",
       "      <th>1</th>\n",
       "      <td>2</td>\n",
       "      <td>Sarah</td>\n",
       "      <td>Female</td>\n",
       "      <td>90</td>\n",
       "      <td>20</td>\n",
       "      <td>85</td>\n",
       "      <td>2</td>\n",
       "      <td>Medium</td>\n",
       "      <td>87</td>\n",
       "    </tr>\n",
       "    <tr>\n",
       "      <th>2</th>\n",
       "      <td>3</td>\n",
       "      <td>Alex</td>\n",
       "      <td>Male</td>\n",
       "      <td>78</td>\n",
       "      <td>10</td>\n",
       "      <td>65</td>\n",
       "      <td>0</td>\n",
       "      <td>Low</td>\n",
       "      <td>68</td>\n",
       "    </tr>\n",
       "    <tr>\n",
       "      <th>3</th>\n",
       "      <td>4</td>\n",
       "      <td>Michael</td>\n",
       "      <td>Male</td>\n",
       "      <td>92</td>\n",
       "      <td>25</td>\n",
       "      <td>90</td>\n",
       "      <td>3</td>\n",
       "      <td>High</td>\n",
       "      <td>92</td>\n",
       "    </tr>\n",
       "    <tr>\n",
       "      <th>4</th>\n",
       "      <td>5</td>\n",
       "      <td>Emma</td>\n",
       "      <td>Female</td>\n",
       "      <td>88</td>\n",
       "      <td>18</td>\n",
       "      <td>82</td>\n",
       "      <td>2</td>\n",
       "      <td>Medium</td>\n",
       "      <td>85</td>\n",
       "    </tr>\n",
       "  </tbody>\n",
       "</table>\n",
       "</div>"
      ],
      "text/plain": [
       "   StudentID     Name  Gender  AttendanceRate  StudyHoursPerWeek  \\\n",
       "0          1     John    Male              85                 15   \n",
       "1          2    Sarah  Female              90                 20   \n",
       "2          3     Alex    Male              78                 10   \n",
       "3          4  Michael    Male              92                 25   \n",
       "4          5     Emma  Female              88                 18   \n",
       "\n",
       "   PreviousGrade  ExtracurricularActivities ParentalSupport  FinalGrade  \n",
       "0             78                          1            High          80  \n",
       "1             85                          2          Medium          87  \n",
       "2             65                          0             Low          68  \n",
       "3             90                          3            High          92  \n",
       "4             82                          2          Medium          85  "
      ]
     },
     "execution_count": 3,
     "metadata": {},
     "output_type": "execute_result"
    }
   ],
   "source": [
    "data.head()"
   ]
  },
  {
   "cell_type": "code",
   "execution_count": 4,
   "id": "e90da338",
   "metadata": {
    "execution": {
     "iopub.execute_input": "2024-09-20T16:15:12.782271Z",
     "iopub.status.busy": "2024-09-20T16:15:12.781374Z",
     "iopub.status.idle": "2024-09-20T16:15:12.794987Z",
     "shell.execute_reply": "2024-09-20T16:15:12.793996Z"
    },
    "papermill": {
     "duration": 0.026869,
     "end_time": "2024-09-20T16:15:12.797359",
     "exception": false,
     "start_time": "2024-09-20T16:15:12.770490",
     "status": "completed"
    },
    "tags": []
   },
   "outputs": [
    {
     "data": {
      "text/html": [
       "<div>\n",
       "<style scoped>\n",
       "    .dataframe tbody tr th:only-of-type {\n",
       "        vertical-align: middle;\n",
       "    }\n",
       "\n",
       "    .dataframe tbody tr th {\n",
       "        vertical-align: top;\n",
       "    }\n",
       "\n",
       "    .dataframe thead th {\n",
       "        text-align: right;\n",
       "    }\n",
       "</style>\n",
       "<table border=\"1\" class=\"dataframe\">\n",
       "  <thead>\n",
       "    <tr style=\"text-align: right;\">\n",
       "      <th></th>\n",
       "      <th>StudentID</th>\n",
       "      <th>Name</th>\n",
       "      <th>Gender</th>\n",
       "      <th>AttendanceRate</th>\n",
       "      <th>StudyHoursPerWeek</th>\n",
       "      <th>PreviousGrade</th>\n",
       "      <th>ExtracurricularActivities</th>\n",
       "      <th>ParentalSupport</th>\n",
       "      <th>FinalGrade</th>\n",
       "    </tr>\n",
       "  </thead>\n",
       "  <tbody>\n",
       "    <tr>\n",
       "      <th>5</th>\n",
       "      <td>6</td>\n",
       "      <td>Olivia</td>\n",
       "      <td>Female</td>\n",
       "      <td>95</td>\n",
       "      <td>30</td>\n",
       "      <td>88</td>\n",
       "      <td>1</td>\n",
       "      <td>High</td>\n",
       "      <td>90</td>\n",
       "    </tr>\n",
       "    <tr>\n",
       "      <th>6</th>\n",
       "      <td>7</td>\n",
       "      <td>Daniel</td>\n",
       "      <td>Male</td>\n",
       "      <td>70</td>\n",
       "      <td>8</td>\n",
       "      <td>60</td>\n",
       "      <td>0</td>\n",
       "      <td>Low</td>\n",
       "      <td>62</td>\n",
       "    </tr>\n",
       "    <tr>\n",
       "      <th>7</th>\n",
       "      <td>8</td>\n",
       "      <td>Sophia</td>\n",
       "      <td>Female</td>\n",
       "      <td>85</td>\n",
       "      <td>17</td>\n",
       "      <td>77</td>\n",
       "      <td>1</td>\n",
       "      <td>Medium</td>\n",
       "      <td>78</td>\n",
       "    </tr>\n",
       "    <tr>\n",
       "      <th>8</th>\n",
       "      <td>9</td>\n",
       "      <td>James</td>\n",
       "      <td>Male</td>\n",
       "      <td>82</td>\n",
       "      <td>12</td>\n",
       "      <td>70</td>\n",
       "      <td>2</td>\n",
       "      <td>Low</td>\n",
       "      <td>72</td>\n",
       "    </tr>\n",
       "    <tr>\n",
       "      <th>9</th>\n",
       "      <td>10</td>\n",
       "      <td>Isabella</td>\n",
       "      <td>Female</td>\n",
       "      <td>91</td>\n",
       "      <td>22</td>\n",
       "      <td>86</td>\n",
       "      <td>3</td>\n",
       "      <td>High</td>\n",
       "      <td>88</td>\n",
       "    </tr>\n",
       "  </tbody>\n",
       "</table>\n",
       "</div>"
      ],
      "text/plain": [
       "   StudentID      Name  Gender  AttendanceRate  StudyHoursPerWeek  \\\n",
       "5          6    Olivia  Female              95                 30   \n",
       "6          7    Daniel    Male              70                  8   \n",
       "7          8    Sophia  Female              85                 17   \n",
       "8          9     James    Male              82                 12   \n",
       "9         10  Isabella  Female              91                 22   \n",
       "\n",
       "   PreviousGrade  ExtracurricularActivities ParentalSupport  FinalGrade  \n",
       "5             88                          1            High          90  \n",
       "6             60                          0             Low          62  \n",
       "7             77                          1          Medium          78  \n",
       "8             70                          2             Low          72  \n",
       "9             86                          3            High          88  "
      ]
     },
     "execution_count": 4,
     "metadata": {},
     "output_type": "execute_result"
    }
   ],
   "source": [
    "data.tail()"
   ]
  },
  {
   "cell_type": "code",
   "execution_count": 5,
   "id": "bb1d5773",
   "metadata": {
    "execution": {
     "iopub.execute_input": "2024-09-20T16:15:12.818150Z",
     "iopub.status.busy": "2024-09-20T16:15:12.817437Z",
     "iopub.status.idle": "2024-09-20T16:15:12.851725Z",
     "shell.execute_reply": "2024-09-20T16:15:12.850583Z"
    },
    "papermill": {
     "duration": 0.047361,
     "end_time": "2024-09-20T16:15:12.854158",
     "exception": false,
     "start_time": "2024-09-20T16:15:12.806797",
     "status": "completed"
    },
    "tags": []
   },
   "outputs": [
    {
     "data": {
      "text/html": [
       "<div>\n",
       "<style scoped>\n",
       "    .dataframe tbody tr th:only-of-type {\n",
       "        vertical-align: middle;\n",
       "    }\n",
       "\n",
       "    .dataframe tbody tr th {\n",
       "        vertical-align: top;\n",
       "    }\n",
       "\n",
       "    .dataframe thead th {\n",
       "        text-align: right;\n",
       "    }\n",
       "</style>\n",
       "<table border=\"1\" class=\"dataframe\">\n",
       "  <thead>\n",
       "    <tr style=\"text-align: right;\">\n",
       "      <th></th>\n",
       "      <th>StudentID</th>\n",
       "      <th>AttendanceRate</th>\n",
       "      <th>StudyHoursPerWeek</th>\n",
       "      <th>PreviousGrade</th>\n",
       "      <th>ExtracurricularActivities</th>\n",
       "      <th>FinalGrade</th>\n",
       "    </tr>\n",
       "  </thead>\n",
       "  <tbody>\n",
       "    <tr>\n",
       "      <th>count</th>\n",
       "      <td>10.00000</td>\n",
       "      <td>10.000000</td>\n",
       "      <td>10.000000</td>\n",
       "      <td>10.000000</td>\n",
       "      <td>10.000000</td>\n",
       "      <td>10.000000</td>\n",
       "    </tr>\n",
       "    <tr>\n",
       "      <th>mean</th>\n",
       "      <td>5.50000</td>\n",
       "      <td>85.600000</td>\n",
       "      <td>17.700000</td>\n",
       "      <td>78.100000</td>\n",
       "      <td>1.500000</td>\n",
       "      <td>80.200000</td>\n",
       "    </tr>\n",
       "    <tr>\n",
       "      <th>std</th>\n",
       "      <td>3.02765</td>\n",
       "      <td>7.441625</td>\n",
       "      <td>6.848357</td>\n",
       "      <td>10.170218</td>\n",
       "      <td>1.080123</td>\n",
       "      <td>10.097304</td>\n",
       "    </tr>\n",
       "    <tr>\n",
       "      <th>min</th>\n",
       "      <td>1.00000</td>\n",
       "      <td>70.000000</td>\n",
       "      <td>8.000000</td>\n",
       "      <td>60.000000</td>\n",
       "      <td>0.000000</td>\n",
       "      <td>62.000000</td>\n",
       "    </tr>\n",
       "    <tr>\n",
       "      <th>25%</th>\n",
       "      <td>3.25000</td>\n",
       "      <td>82.750000</td>\n",
       "      <td>12.750000</td>\n",
       "      <td>71.750000</td>\n",
       "      <td>1.000000</td>\n",
       "      <td>73.500000</td>\n",
       "    </tr>\n",
       "    <tr>\n",
       "      <th>50%</th>\n",
       "      <td>5.50000</td>\n",
       "      <td>86.500000</td>\n",
       "      <td>17.500000</td>\n",
       "      <td>80.000000</td>\n",
       "      <td>1.500000</td>\n",
       "      <td>82.500000</td>\n",
       "    </tr>\n",
       "    <tr>\n",
       "      <th>75%</th>\n",
       "      <td>7.75000</td>\n",
       "      <td>90.750000</td>\n",
       "      <td>21.500000</td>\n",
       "      <td>85.750000</td>\n",
       "      <td>2.000000</td>\n",
       "      <td>87.750000</td>\n",
       "    </tr>\n",
       "    <tr>\n",
       "      <th>max</th>\n",
       "      <td>10.00000</td>\n",
       "      <td>95.000000</td>\n",
       "      <td>30.000000</td>\n",
       "      <td>90.000000</td>\n",
       "      <td>3.000000</td>\n",
       "      <td>92.000000</td>\n",
       "    </tr>\n",
       "  </tbody>\n",
       "</table>\n",
       "</div>"
      ],
      "text/plain": [
       "       StudentID  AttendanceRate  StudyHoursPerWeek  PreviousGrade  \\\n",
       "count   10.00000       10.000000          10.000000      10.000000   \n",
       "mean     5.50000       85.600000          17.700000      78.100000   \n",
       "std      3.02765        7.441625           6.848357      10.170218   \n",
       "min      1.00000       70.000000           8.000000      60.000000   \n",
       "25%      3.25000       82.750000          12.750000      71.750000   \n",
       "50%      5.50000       86.500000          17.500000      80.000000   \n",
       "75%      7.75000       90.750000          21.500000      85.750000   \n",
       "max     10.00000       95.000000          30.000000      90.000000   \n",
       "\n",
       "       ExtracurricularActivities  FinalGrade  \n",
       "count                  10.000000   10.000000  \n",
       "mean                    1.500000   80.200000  \n",
       "std                     1.080123   10.097304  \n",
       "min                     0.000000   62.000000  \n",
       "25%                     1.000000   73.500000  \n",
       "50%                     1.500000   82.500000  \n",
       "75%                     2.000000   87.750000  \n",
       "max                     3.000000   92.000000  "
      ]
     },
     "execution_count": 5,
     "metadata": {},
     "output_type": "execute_result"
    }
   ],
   "source": [
    "data.describe()"
   ]
  },
  {
   "cell_type": "code",
   "execution_count": 6,
   "id": "57ee2777",
   "metadata": {
    "execution": {
     "iopub.execute_input": "2024-09-20T16:15:12.875957Z",
     "iopub.status.busy": "2024-09-20T16:15:12.875543Z",
     "iopub.status.idle": "2024-09-20T16:15:12.897623Z",
     "shell.execute_reply": "2024-09-20T16:15:12.896114Z"
    },
    "papermill": {
     "duration": 0.035861,
     "end_time": "2024-09-20T16:15:12.899917",
     "exception": false,
     "start_time": "2024-09-20T16:15:12.864056",
     "status": "completed"
    },
    "tags": []
   },
   "outputs": [
    {
     "name": "stdout",
     "output_type": "stream",
     "text": [
      "<class 'pandas.core.frame.DataFrame'>\n",
      "RangeIndex: 10 entries, 0 to 9\n",
      "Data columns (total 9 columns):\n",
      " #   Column                     Non-Null Count  Dtype \n",
      "---  ------                     --------------  ----- \n",
      " 0   StudentID                  10 non-null     int64 \n",
      " 1   Name                       10 non-null     object\n",
      " 2   Gender                     10 non-null     object\n",
      " 3   AttendanceRate             10 non-null     int64 \n",
      " 4   StudyHoursPerWeek          10 non-null     int64 \n",
      " 5   PreviousGrade              10 non-null     int64 \n",
      " 6   ExtracurricularActivities  10 non-null     int64 \n",
      " 7   ParentalSupport            10 non-null     object\n",
      " 8   FinalGrade                 10 non-null     int64 \n",
      "dtypes: int64(6), object(3)\n",
      "memory usage: 848.0+ bytes\n"
     ]
    }
   ],
   "source": [
    "data.info()"
   ]
  },
  {
   "cell_type": "code",
   "execution_count": 7,
   "id": "e570e2bb",
   "metadata": {
    "execution": {
     "iopub.execute_input": "2024-09-20T16:15:12.921994Z",
     "iopub.status.busy": "2024-09-20T16:15:12.921217Z",
     "iopub.status.idle": "2024-09-20T16:15:12.929931Z",
     "shell.execute_reply": "2024-09-20T16:15:12.928822Z"
    },
    "papermill": {
     "duration": 0.022221,
     "end_time": "2024-09-20T16:15:12.932190",
     "exception": false,
     "start_time": "2024-09-20T16:15:12.909969",
     "status": "completed"
    },
    "tags": []
   },
   "outputs": [
    {
     "data": {
      "text/plain": [
       "StudentID                    0\n",
       "Name                         0\n",
       "Gender                       0\n",
       "AttendanceRate               0\n",
       "StudyHoursPerWeek            0\n",
       "PreviousGrade                0\n",
       "ExtracurricularActivities    0\n",
       "ParentalSupport              0\n",
       "FinalGrade                   0\n",
       "dtype: int64"
      ]
     },
     "execution_count": 7,
     "metadata": {},
     "output_type": "execute_result"
    }
   ],
   "source": [
    "data.isnull().sum()"
   ]
  },
  {
   "cell_type": "code",
   "execution_count": 8,
   "id": "19ceb538",
   "metadata": {
    "execution": {
     "iopub.execute_input": "2024-09-20T16:15:12.954551Z",
     "iopub.status.busy": "2024-09-20T16:15:12.954166Z",
     "iopub.status.idle": "2024-09-20T16:15:12.963301Z",
     "shell.execute_reply": "2024-09-20T16:15:12.962407Z"
    },
    "papermill": {
     "duration": 0.023362,
     "end_time": "2024-09-20T16:15:12.965913",
     "exception": false,
     "start_time": "2024-09-20T16:15:12.942551",
     "status": "completed"
    },
    "tags": []
   },
   "outputs": [
    {
     "data": {
      "text/plain": [
       "0    False\n",
       "1    False\n",
       "2    False\n",
       "3    False\n",
       "4    False\n",
       "5    False\n",
       "6    False\n",
       "7    False\n",
       "8    False\n",
       "9    False\n",
       "dtype: bool"
      ]
     },
     "execution_count": 8,
     "metadata": {},
     "output_type": "execute_result"
    }
   ],
   "source": [
    "data.duplicated()"
   ]
  },
  {
   "cell_type": "markdown",
   "id": "64b2c41e",
   "metadata": {
    "papermill": {
     "duration": 0.009892,
     "end_time": "2024-09-20T16:15:12.985903",
     "exception": false,
     "start_time": "2024-09-20T16:15:12.976011",
     "status": "completed"
    },
    "tags": []
   },
   "source": [
    "## 4- Spiliting the data "
   ]
  },
  {
   "cell_type": "code",
   "execution_count": 9,
   "id": "1a682ee5",
   "metadata": {
    "execution": {
     "iopub.execute_input": "2024-09-20T16:15:13.008147Z",
     "iopub.status.busy": "2024-09-20T16:15:13.007714Z",
     "iopub.status.idle": "2024-09-20T16:15:13.015083Z",
     "shell.execute_reply": "2024-09-20T16:15:13.013998Z"
    },
    "papermill": {
     "duration": 0.021214,
     "end_time": "2024-09-20T16:15:13.017369",
     "exception": false,
     "start_time": "2024-09-20T16:15:12.996155",
     "status": "completed"
    },
    "tags": []
   },
   "outputs": [
    {
     "data": {
      "text/plain": [
       "Index(['StudentID', 'Name', 'Gender', 'AttendanceRate', 'StudyHoursPerWeek',\n",
       "       'PreviousGrade', 'ExtracurricularActivities', 'ParentalSupport',\n",
       "       'FinalGrade'],\n",
       "      dtype='object')"
      ]
     },
     "execution_count": 9,
     "metadata": {},
     "output_type": "execute_result"
    }
   ],
   "source": [
    "data.columns"
   ]
  },
  {
   "cell_type": "code",
   "execution_count": 10,
   "id": "c340fac4",
   "metadata": {
    "execution": {
     "iopub.execute_input": "2024-09-20T16:15:13.040229Z",
     "iopub.status.busy": "2024-09-20T16:15:13.039789Z",
     "iopub.status.idle": "2024-09-20T16:15:13.046988Z",
     "shell.execute_reply": "2024-09-20T16:15:13.045936Z"
    },
    "papermill": {
     "duration": 0.021507,
     "end_time": "2024-09-20T16:15:13.049338",
     "exception": false,
     "start_time": "2024-09-20T16:15:13.027831",
     "status": "completed"
    },
    "tags": []
   },
   "outputs": [],
   "source": [
    "X = data[['StudentID', 'AttendanceRate', 'StudyHoursPerWeek',\n",
    "       'PreviousGrade', 'ExtracurricularActivities']]\n",
    "y = data[[ 'FinalGrade']]"
   ]
  },
  {
   "cell_type": "code",
   "execution_count": 11,
   "id": "ec2bd48a",
   "metadata": {
    "execution": {
     "iopub.execute_input": "2024-09-20T16:15:13.071783Z",
     "iopub.status.busy": "2024-09-20T16:15:13.071395Z",
     "iopub.status.idle": "2024-09-20T16:15:13.080870Z",
     "shell.execute_reply": "2024-09-20T16:15:13.079653Z"
    },
    "papermill": {
     "duration": 0.023468,
     "end_time": "2024-09-20T16:15:13.083205",
     "exception": false,
     "start_time": "2024-09-20T16:15:13.059737",
     "status": "completed"
    },
    "tags": []
   },
   "outputs": [],
   "source": [
    "# Splitting data into 80% training and 20% testing\n",
    "X_train, X_test, y_train, y_test = train_test_split(X, y, test_size=0.2, random_state=42)"
   ]
  },
  {
   "cell_type": "code",
   "execution_count": 12,
   "id": "34b41658",
   "metadata": {
    "execution": {
     "iopub.execute_input": "2024-09-20T16:15:13.106234Z",
     "iopub.status.busy": "2024-09-20T16:15:13.105460Z",
     "iopub.status.idle": "2024-09-20T16:15:13.116446Z",
     "shell.execute_reply": "2024-09-20T16:15:13.115333Z"
    },
    "papermill": {
     "duration": 0.025213,
     "end_time": "2024-09-20T16:15:13.118866",
     "exception": false,
     "start_time": "2024-09-20T16:15:13.093653",
     "status": "completed"
    },
    "tags": []
   },
   "outputs": [
    {
     "data": {
      "text/html": [
       "<div>\n",
       "<style scoped>\n",
       "    .dataframe tbody tr th:only-of-type {\n",
       "        vertical-align: middle;\n",
       "    }\n",
       "\n",
       "    .dataframe tbody tr th {\n",
       "        vertical-align: top;\n",
       "    }\n",
       "\n",
       "    .dataframe thead th {\n",
       "        text-align: right;\n",
       "    }\n",
       "</style>\n",
       "<table border=\"1\" class=\"dataframe\">\n",
       "  <thead>\n",
       "    <tr style=\"text-align: right;\">\n",
       "      <th></th>\n",
       "      <th>StudentID</th>\n",
       "      <th>AttendanceRate</th>\n",
       "      <th>StudyHoursPerWeek</th>\n",
       "      <th>PreviousGrade</th>\n",
       "      <th>ExtracurricularActivities</th>\n",
       "    </tr>\n",
       "  </thead>\n",
       "  <tbody>\n",
       "    <tr>\n",
       "      <th>8</th>\n",
       "      <td>9</td>\n",
       "      <td>82</td>\n",
       "      <td>12</td>\n",
       "      <td>70</td>\n",
       "      <td>2</td>\n",
       "    </tr>\n",
       "    <tr>\n",
       "      <th>1</th>\n",
       "      <td>2</td>\n",
       "      <td>90</td>\n",
       "      <td>20</td>\n",
       "      <td>85</td>\n",
       "      <td>2</td>\n",
       "    </tr>\n",
       "  </tbody>\n",
       "</table>\n",
       "</div>"
      ],
      "text/plain": [
       "   StudentID  AttendanceRate  StudyHoursPerWeek  PreviousGrade  \\\n",
       "8          9              82                 12             70   \n",
       "1          2              90                 20             85   \n",
       "\n",
       "   ExtracurricularActivities  \n",
       "8                          2  \n",
       "1                          2  "
      ]
     },
     "execution_count": 12,
     "metadata": {},
     "output_type": "execute_result"
    }
   ],
   "source": [
    "X_test"
   ]
  },
  {
   "cell_type": "code",
   "execution_count": 13,
   "id": "5aa1413e",
   "metadata": {
    "execution": {
     "iopub.execute_input": "2024-09-20T16:15:13.143427Z",
     "iopub.status.busy": "2024-09-20T16:15:13.142958Z",
     "iopub.status.idle": "2024-09-20T16:15:13.154608Z",
     "shell.execute_reply": "2024-09-20T16:15:13.153549Z"
    },
    "papermill": {
     "duration": 0.028064,
     "end_time": "2024-09-20T16:15:13.157520",
     "exception": false,
     "start_time": "2024-09-20T16:15:13.129456",
     "status": "completed"
    },
    "tags": []
   },
   "outputs": [
    {
     "data": {
      "text/html": [
       "<div>\n",
       "<style scoped>\n",
       "    .dataframe tbody tr th:only-of-type {\n",
       "        vertical-align: middle;\n",
       "    }\n",
       "\n",
       "    .dataframe tbody tr th {\n",
       "        vertical-align: top;\n",
       "    }\n",
       "\n",
       "    .dataframe thead th {\n",
       "        text-align: right;\n",
       "    }\n",
       "</style>\n",
       "<table border=\"1\" class=\"dataframe\">\n",
       "  <thead>\n",
       "    <tr style=\"text-align: right;\">\n",
       "      <th></th>\n",
       "      <th>StudentID</th>\n",
       "      <th>AttendanceRate</th>\n",
       "      <th>StudyHoursPerWeek</th>\n",
       "      <th>PreviousGrade</th>\n",
       "      <th>ExtracurricularActivities</th>\n",
       "    </tr>\n",
       "  </thead>\n",
       "  <tbody>\n",
       "    <tr>\n",
       "      <th>5</th>\n",
       "      <td>6</td>\n",
       "      <td>95</td>\n",
       "      <td>30</td>\n",
       "      <td>88</td>\n",
       "      <td>1</td>\n",
       "    </tr>\n",
       "    <tr>\n",
       "      <th>0</th>\n",
       "      <td>1</td>\n",
       "      <td>85</td>\n",
       "      <td>15</td>\n",
       "      <td>78</td>\n",
       "      <td>1</td>\n",
       "    </tr>\n",
       "    <tr>\n",
       "      <th>7</th>\n",
       "      <td>8</td>\n",
       "      <td>85</td>\n",
       "      <td>17</td>\n",
       "      <td>77</td>\n",
       "      <td>1</td>\n",
       "    </tr>\n",
       "    <tr>\n",
       "      <th>2</th>\n",
       "      <td>3</td>\n",
       "      <td>78</td>\n",
       "      <td>10</td>\n",
       "      <td>65</td>\n",
       "      <td>0</td>\n",
       "    </tr>\n",
       "    <tr>\n",
       "      <th>9</th>\n",
       "      <td>10</td>\n",
       "      <td>91</td>\n",
       "      <td>22</td>\n",
       "      <td>86</td>\n",
       "      <td>3</td>\n",
       "    </tr>\n",
       "    <tr>\n",
       "      <th>4</th>\n",
       "      <td>5</td>\n",
       "      <td>88</td>\n",
       "      <td>18</td>\n",
       "      <td>82</td>\n",
       "      <td>2</td>\n",
       "    </tr>\n",
       "    <tr>\n",
       "      <th>3</th>\n",
       "      <td>4</td>\n",
       "      <td>92</td>\n",
       "      <td>25</td>\n",
       "      <td>90</td>\n",
       "      <td>3</td>\n",
       "    </tr>\n",
       "    <tr>\n",
       "      <th>6</th>\n",
       "      <td>7</td>\n",
       "      <td>70</td>\n",
       "      <td>8</td>\n",
       "      <td>60</td>\n",
       "      <td>0</td>\n",
       "    </tr>\n",
       "  </tbody>\n",
       "</table>\n",
       "</div>"
      ],
      "text/plain": [
       "   StudentID  AttendanceRate  StudyHoursPerWeek  PreviousGrade  \\\n",
       "5          6              95                 30             88   \n",
       "0          1              85                 15             78   \n",
       "7          8              85                 17             77   \n",
       "2          3              78                 10             65   \n",
       "9         10              91                 22             86   \n",
       "4          5              88                 18             82   \n",
       "3          4              92                 25             90   \n",
       "6          7              70                  8             60   \n",
       "\n",
       "   ExtracurricularActivities  \n",
       "5                          1  \n",
       "0                          1  \n",
       "7                          1  \n",
       "2                          0  \n",
       "9                          3  \n",
       "4                          2  \n",
       "3                          3  \n",
       "6                          0  "
      ]
     },
     "execution_count": 13,
     "metadata": {},
     "output_type": "execute_result"
    }
   ],
   "source": [
    "X_train"
   ]
  },
  {
   "cell_type": "markdown",
   "id": "56fbdb08",
   "metadata": {
    "papermill": {
     "duration": 0.010672,
     "end_time": "2024-09-20T16:15:13.179144",
     "exception": false,
     "start_time": "2024-09-20T16:15:13.168472",
     "status": "completed"
    },
    "tags": []
   },
   "source": [
    "## 5- Building the model"
   ]
  },
  {
   "cell_type": "code",
   "execution_count": 14,
   "id": "a1794151",
   "metadata": {
    "execution": {
     "iopub.execute_input": "2024-09-20T16:15:13.203642Z",
     "iopub.status.busy": "2024-09-20T16:15:13.202806Z",
     "iopub.status.idle": "2024-09-20T16:15:13.207892Z",
     "shell.execute_reply": "2024-09-20T16:15:13.206850Z"
    },
    "papermill": {
     "duration": 0.020076,
     "end_time": "2024-09-20T16:15:13.210243",
     "exception": false,
     "start_time": "2024-09-20T16:15:13.190167",
     "status": "completed"
    },
    "tags": []
   },
   "outputs": [],
   "source": [
    "model = SVC()"
   ]
  },
  {
   "cell_type": "code",
   "execution_count": 15,
   "id": "d471085a",
   "metadata": {
    "execution": {
     "iopub.execute_input": "2024-09-20T16:15:13.233998Z",
     "iopub.status.busy": "2024-09-20T16:15:13.233603Z",
     "iopub.status.idle": "2024-09-20T16:15:13.251265Z",
     "shell.execute_reply": "2024-09-20T16:15:13.250033Z"
    },
    "papermill": {
     "duration": 0.032894,
     "end_time": "2024-09-20T16:15:13.254053",
     "exception": false,
     "start_time": "2024-09-20T16:15:13.221159",
     "status": "completed"
    },
    "tags": []
   },
   "outputs": [
    {
     "name": "stderr",
     "output_type": "stream",
     "text": [
      "/opt/conda/lib/python3.10/site-packages/sklearn/utils/validation.py:1143: DataConversionWarning: A column-vector y was passed when a 1d array was expected. Please change the shape of y to (n_samples, ), for example using ravel().\n",
      "  y = column_or_1d(y, warn=True)\n"
     ]
    },
    {
     "data": {
      "text/html": [
       "<style>#sk-container-id-1 {color: black;background-color: white;}#sk-container-id-1 pre{padding: 0;}#sk-container-id-1 div.sk-toggleable {background-color: white;}#sk-container-id-1 label.sk-toggleable__label {cursor: pointer;display: block;width: 100%;margin-bottom: 0;padding: 0.3em;box-sizing: border-box;text-align: center;}#sk-container-id-1 label.sk-toggleable__label-arrow:before {content: \"▸\";float: left;margin-right: 0.25em;color: #696969;}#sk-container-id-1 label.sk-toggleable__label-arrow:hover:before {color: black;}#sk-container-id-1 div.sk-estimator:hover label.sk-toggleable__label-arrow:before {color: black;}#sk-container-id-1 div.sk-toggleable__content {max-height: 0;max-width: 0;overflow: hidden;text-align: left;background-color: #f0f8ff;}#sk-container-id-1 div.sk-toggleable__content pre {margin: 0.2em;color: black;border-radius: 0.25em;background-color: #f0f8ff;}#sk-container-id-1 input.sk-toggleable__control:checked~div.sk-toggleable__content {max-height: 200px;max-width: 100%;overflow: auto;}#sk-container-id-1 input.sk-toggleable__control:checked~label.sk-toggleable__label-arrow:before {content: \"▾\";}#sk-container-id-1 div.sk-estimator input.sk-toggleable__control:checked~label.sk-toggleable__label {background-color: #d4ebff;}#sk-container-id-1 div.sk-label input.sk-toggleable__control:checked~label.sk-toggleable__label {background-color: #d4ebff;}#sk-container-id-1 input.sk-hidden--visually {border: 0;clip: rect(1px 1px 1px 1px);clip: rect(1px, 1px, 1px, 1px);height: 1px;margin: -1px;overflow: hidden;padding: 0;position: absolute;width: 1px;}#sk-container-id-1 div.sk-estimator {font-family: monospace;background-color: #f0f8ff;border: 1px dotted black;border-radius: 0.25em;box-sizing: border-box;margin-bottom: 0.5em;}#sk-container-id-1 div.sk-estimator:hover {background-color: #d4ebff;}#sk-container-id-1 div.sk-parallel-item::after {content: \"\";width: 100%;border-bottom: 1px solid gray;flex-grow: 1;}#sk-container-id-1 div.sk-label:hover label.sk-toggleable__label {background-color: #d4ebff;}#sk-container-id-1 div.sk-serial::before {content: \"\";position: absolute;border-left: 1px solid gray;box-sizing: border-box;top: 0;bottom: 0;left: 50%;z-index: 0;}#sk-container-id-1 div.sk-serial {display: flex;flex-direction: column;align-items: center;background-color: white;padding-right: 0.2em;padding-left: 0.2em;position: relative;}#sk-container-id-1 div.sk-item {position: relative;z-index: 1;}#sk-container-id-1 div.sk-parallel {display: flex;align-items: stretch;justify-content: center;background-color: white;position: relative;}#sk-container-id-1 div.sk-item::before, #sk-container-id-1 div.sk-parallel-item::before {content: \"\";position: absolute;border-left: 1px solid gray;box-sizing: border-box;top: 0;bottom: 0;left: 50%;z-index: -1;}#sk-container-id-1 div.sk-parallel-item {display: flex;flex-direction: column;z-index: 1;position: relative;background-color: white;}#sk-container-id-1 div.sk-parallel-item:first-child::after {align-self: flex-end;width: 50%;}#sk-container-id-1 div.sk-parallel-item:last-child::after {align-self: flex-start;width: 50%;}#sk-container-id-1 div.sk-parallel-item:only-child::after {width: 0;}#sk-container-id-1 div.sk-dashed-wrapped {border: 1px dashed gray;margin: 0 0.4em 0.5em 0.4em;box-sizing: border-box;padding-bottom: 0.4em;background-color: white;}#sk-container-id-1 div.sk-label label {font-family: monospace;font-weight: bold;display: inline-block;line-height: 1.2em;}#sk-container-id-1 div.sk-label-container {text-align: center;}#sk-container-id-1 div.sk-container {/* jupyter's `normalize.less` sets `[hidden] { display: none; }` but bootstrap.min.css set `[hidden] { display: none !important; }` so we also need the `!important` here to be able to override the default hidden behavior on the sphinx rendered scikit-learn.org. See: https://github.com/scikit-learn/scikit-learn/issues/21755 */display: inline-block !important;position: relative;}#sk-container-id-1 div.sk-text-repr-fallback {display: none;}</style><div id=\"sk-container-id-1\" class=\"sk-top-container\"><div class=\"sk-text-repr-fallback\"><pre>SVC()</pre><b>In a Jupyter environment, please rerun this cell to show the HTML representation or trust the notebook. <br />On GitHub, the HTML representation is unable to render, please try loading this page with nbviewer.org.</b></div><div class=\"sk-container\" hidden><div class=\"sk-item\"><div class=\"sk-estimator sk-toggleable\"><input class=\"sk-toggleable__control sk-hidden--visually\" id=\"sk-estimator-id-1\" type=\"checkbox\" checked><label for=\"sk-estimator-id-1\" class=\"sk-toggleable__label sk-toggleable__label-arrow\">SVC</label><div class=\"sk-toggleable__content\"><pre>SVC()</pre></div></div></div></div></div>"
      ],
      "text/plain": [
       "SVC()"
      ]
     },
     "execution_count": 15,
     "metadata": {},
     "output_type": "execute_result"
    }
   ],
   "source": [
    "model.fit(X_train,y_train)"
   ]
  },
  {
   "cell_type": "code",
   "execution_count": 16,
   "id": "6f0b074c",
   "metadata": {
    "execution": {
     "iopub.execute_input": "2024-09-20T16:15:13.278556Z",
     "iopub.status.busy": "2024-09-20T16:15:13.278148Z",
     "iopub.status.idle": "2024-09-20T16:15:13.287217Z",
     "shell.execute_reply": "2024-09-20T16:15:13.286144Z"
    },
    "papermill": {
     "duration": 0.024116,
     "end_time": "2024-09-20T16:15:13.289667",
     "exception": false,
     "start_time": "2024-09-20T16:15:13.265551",
     "status": "completed"
    },
    "tags": []
   },
   "outputs": [
    {
     "data": {
      "text/plain": [
       "array([78, 85])"
      ]
     },
     "execution_count": 16,
     "metadata": {},
     "output_type": "execute_result"
    }
   ],
   "source": [
    "# Predicting\n",
    "y_pred = model.predict(X_test)\n",
    "y_pred"
   ]
  },
  {
   "cell_type": "markdown",
   "id": "ba2a6d7e",
   "metadata": {
    "papermill": {
     "duration": 0.011654,
     "end_time": "2024-09-20T16:15:13.312907",
     "exception": false,
     "start_time": "2024-09-20T16:15:13.301253",
     "status": "completed"
    },
    "tags": []
   },
   "source": [
    "## 6- Evaluating the model "
   ]
  },
  {
   "cell_type": "code",
   "execution_count": 17,
   "id": "623958e5",
   "metadata": {
    "execution": {
     "iopub.execute_input": "2024-09-20T16:15:13.338390Z",
     "iopub.status.busy": "2024-09-20T16:15:13.337933Z",
     "iopub.status.idle": "2024-09-20T16:15:13.348617Z",
     "shell.execute_reply": "2024-09-20T16:15:13.347506Z"
    },
    "papermill": {
     "duration": 0.026519,
     "end_time": "2024-09-20T16:15:13.350973",
     "exception": false,
     "start_time": "2024-09-20T16:15:13.324454",
     "status": "completed"
    },
    "tags": []
   },
   "outputs": [
    {
     "name": "stdout",
     "output_type": "stream",
     "text": [
      "Accuracy: 0.0\n"
     ]
    }
   ],
   "source": [
    "accuracy = accuracy_score(y_test, y_pred)\n",
    "print(\"Accuracy:\", accuracy)"
   ]
  },
  {
   "cell_type": "code",
   "execution_count": 18,
   "id": "6c143815",
   "metadata": {
    "execution": {
     "iopub.execute_input": "2024-09-20T16:15:13.375321Z",
     "iopub.status.busy": "2024-09-20T16:15:13.374876Z",
     "iopub.status.idle": "2024-09-20T16:15:13.733084Z",
     "shell.execute_reply": "2024-09-20T16:15:13.732029Z"
    },
    "papermill": {
     "duration": 0.373293,
     "end_time": "2024-09-20T16:15:13.735625",
     "exception": false,
     "start_time": "2024-09-20T16:15:13.362332",
     "status": "completed"
    },
    "tags": []
   },
   "outputs": [
    {
     "data": {
      "image/png": "[encoded data removed]",
      "text/plain": [
       "<Figure size 800x600 with 2 Axes>"
      ]
     },
     "metadata": {},
     "output_type": "display_data"
    }
   ],
   "source": [
    "# Compute confusion matrix\n",
    "cm = confusion_matrix(y_test, y_pred)\n",
    "\n",
    "# Plot confusion matrix\n",
    "plt.figure(figsize=(8,6))\n",
    "sns.heatmap(cm, annot=True, fmt='d', cmap='Blues', xticklabels=['Class 0', 'Class 1'], yticklabels=['Class 0', 'Class 1'])\n",
    "plt.xlabel('Predicted Label')\n",
    "plt.ylabel('True Label')\n",
    "plt.title('Confusion Matrix')\n",
    "plt.show()"
   ]
  },
  {
   "cell_type": "code",
   "execution_count": 19,
   "id": "82f90ffd",
   "metadata": {
    "execution": {
     "iopub.execute_input": "2024-09-20T16:15:13.761782Z",
     "iopub.status.busy": "2024-09-20T16:15:13.760972Z",
     "iopub.status.idle": "2024-09-20T16:15:13.768107Z",
     "shell.execute_reply": "2024-09-20T16:15:13.767026Z"
    },
    "papermill": {
     "duration": 0.022733,
     "end_time": "2024-09-20T16:15:13.770475",
     "exception": false,
     "start_time": "2024-09-20T16:15:13.747742",
     "status": "completed"
    },
    "tags": []
   },
   "outputs": [
    {
     "data": {
      "text/plain": [
       "Index(['StudentID', 'Name', 'Gender', 'AttendanceRate', 'StudyHoursPerWeek',\n",
       "       'PreviousGrade', 'ExtracurricularActivities', 'ParentalSupport',\n",
       "       'FinalGrade'],\n",
       "      dtype='object')"
      ]
     },
     "execution_count": 19,
     "metadata": {},
     "output_type": "execute_result"
    }
   ],
   "source": [
    "data.columns"
   ]
  },
  {
   "cell_type": "markdown",
   "id": "60163041",
   "metadata": {
    "papermill": {
     "duration": 0.011769,
     "end_time": "2024-09-20T16:15:13.794191",
     "exception": false,
     "start_time": "2024-09-20T16:15:13.782422",
     "status": "completed"
    },
    "tags": []
   },
   "source": [
    "## 7- Data Visualization "
   ]
  },
  {
   "cell_type": "code",
   "execution_count": 20,
   "id": "e33f677f",
   "metadata": {
    "execution": {
     "iopub.execute_input": "2024-09-20T16:15:13.820044Z",
     "iopub.status.busy": "2024-09-20T16:15:13.819194Z",
     "iopub.status.idle": "2024-09-20T16:15:14.138641Z",
     "shell.execute_reply": "2024-09-20T16:15:14.137546Z"
    },
    "papermill": {
     "duration": 0.335166,
     "end_time": "2024-09-20T16:15:14.141166",
     "exception": false,
     "start_time": "2024-09-20T16:15:13.806000",
     "status": "completed"
    },
    "tags": []
   },
   "outputs": [
    {
     "data": {
      "image/png": "[encoded data removed]",
      "text/plain": [
       "<Figure size 640x480 with 1 Axes>"
      ]
     },
     "metadata": {},
     "output_type": "display_data"
    }
   ],
   "source": [
    "# Plotting histogram for one feature\n",
    "plt.hist(data['StudyHoursPerWeek'], bins=30, color='blue', edgecolor='black')\n",
    "plt.title('Histogram of StudyHoursPerWeek')\n",
    "plt.xlabel('StudyHoursPerWeek')\n",
    "plt.ylabel('Frequency')\n",
    "plt.show()"
   ]
  },
  {
   "cell_type": "code",
   "execution_count": 21,
   "id": "dab56d8a",
   "metadata": {
    "execution": {
     "iopub.execute_input": "2024-09-20T16:15:14.169939Z",
     "iopub.status.busy": "2024-09-20T16:15:14.169493Z",
     "iopub.status.idle": "2024-09-20T16:15:14.176734Z",
     "shell.execute_reply": "2024-09-20T16:15:14.175646Z"
    },
    "papermill": {
     "duration": 0.02381,
     "end_time": "2024-09-20T16:15:14.179385",
     "exception": false,
     "start_time": "2024-09-20T16:15:14.155575",
     "status": "completed"
    },
    "tags": []
   },
   "outputs": [
    {
     "data": {
      "text/plain": [
       "Index(['StudentID', 'Name', 'Gender', 'AttendanceRate', 'StudyHoursPerWeek',\n",
       "       'PreviousGrade', 'ExtracurricularActivities', 'ParentalSupport',\n",
       "       'FinalGrade'],\n",
       "      dtype='object')"
      ]
     },
     "execution_count": 21,
     "metadata": {},
     "output_type": "execute_result"
    }
   ],
   "source": [
    "data.columns"
   ]
  },
  {
   "cell_type": "code",
   "execution_count": 22,
   "id": "7714207b",
   "metadata": {
    "execution": {
     "iopub.execute_input": "2024-09-20T16:15:14.206921Z",
     "iopub.status.busy": "2024-09-20T16:15:14.206495Z",
     "iopub.status.idle": "2024-09-20T16:15:14.583867Z",
     "shell.execute_reply": "2024-09-20T16:15:14.582876Z"
    },
    "papermill": {
     "duration": 0.394451,
     "end_time": "2024-09-20T16:15:14.586767",
     "exception": false,
     "start_time": "2024-09-20T16:15:14.192316",
     "status": "completed"
    },
    "tags": []
   },
   "outputs": [
    {
     "data": {
      "image/png": "[encoded data removed]",
      "text/plain": [
       "<Figure size 1000x800 with 2 Axes>"
      ]
     },
     "metadata": {},
     "output_type": "display_data"
    }
   ],
   "source": [
    "# Compute correlation matrix\n",
    "data = data.drop(columns=['Name','Gender','ParentalSupport'])\n",
    "corr = data.corr()\n",
    "\n",
    "# Plot heatmap\n",
    "plt.figure(figsize=(10, 8))\n",
    "sns.heatmap(corr, annot=False, cmap='coolwarm', vmin=-1, vmax=1)\n",
    "plt.title('Correlation Heatmap')\n",
    "plt.show()"
   ]
  }
 ],
 "metadata": {
  "kaggle": {
   "accelerator": "none",
   "dataSources": [
    {
     "datasetId": 5644319,
     "sourceId": 9318382,
     "sourceType": "datasetVersion"
    }
   ],
   "dockerImageVersionId": 30761,
   "isGpuEnabled": false,
   "isInternetEnabled": true,
   "language": "python",
   "sourceType": "notebook"
  },
  "kernelspec": {
   "display_name": "Python 3",
   "language": "python",
   "name": "python3"
  },
  "language_info": {
   "codemirror_mode": {
    "name": "ipython",
    "version": 3
   },
   "file_extension": ".py",
   "mimetype": "text/x-python",
   "name": "python",
   "nbconvert_exporter": "python",
   "pygments_lexer": "ipython3",
   "version": "3.10.14"
  },
  "papermill": {
   "default_parameters": {},
   "duration": 7.85521,
   "end_time": "2024-09-20T16:15:15.222258",
   "environment_variables": {},
   "exception": null,
   "input_path": "__notebook__.ipynb",
   "output_path": "__notebook__.ipynb",
   "parameters": {},
   "start_time": "2024-09-20T16:15:07.367048",
   "version": "2.6.0"
  }
 },
 "nbformat": 4,
 "nbformat_minor": 5
}
