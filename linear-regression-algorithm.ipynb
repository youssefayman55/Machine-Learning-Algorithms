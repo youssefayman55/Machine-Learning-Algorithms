{
 "cells": [
  {
   "cell_type": "markdown",
   "id": "c42a368a",
   "metadata": {
    "papermill": {
     "duration": 0.014161,
     "end_time": "2024-09-20T15:56:57.847780",
     "exception": false,
     "start_time": "2024-09-20T15:56:57.833619",
     "status": "completed"
    },
    "tags": []
   },
   "source": [
    "## 1- import libraries"
   ]
  },
  {
   "cell_type": "code",
   "execution_count": 1,
   "id": "53376549",
   "metadata": {
    "_cell_guid": "b1076dfc-b9ad-4769-8c92-a6c4dae69d19",
    "_uuid": "8f2839f25d086af736a60e9eeb907d3b93b6e0e5",
    "execution": {
     "iopub.execute_input": "2024-09-20T15:56:57.869879Z",
     "iopub.status.busy": "2024-09-20T15:56:57.869333Z",
     "iopub.status.idle": "2024-09-20T15:57:00.939385Z",
     "shell.execute_reply": "2024-09-20T15:57:00.937391Z"
    },
    "papermill": {
     "duration": 3.085921,
     "end_time": "2024-09-20T15:57:00.943447",
     "exception": false,
     "start_time": "2024-09-20T15:56:57.857526",
     "status": "completed"
    },
    "tags": []
   },
   "outputs": [],
   "source": [
    "import pandas as pd \n",
    "import numpy as np\n",
    "import matplotlib.pyplot as plt\n",
    "import seaborn as sns\n",
    "import warnings \n",
    "\n",
    "warnings.filterwarnings('ignore')\n",
    "\n",
    "from sklearn.model_selection import train_test_split\n",
    "\n",
    "from sklearn.linear_model import LinearRegression\n",
    "\n",
    "from sklearn.metrics import mean_absolute_error\n",
    "from sklearn.metrics import mean_squared_error"
   ]
  },
  {
   "cell_type": "markdown",
   "id": "b53199ff",
   "metadata": {
    "papermill": {
     "duration": 0.009868,
     "end_time": "2024-09-20T15:57:00.963214",
     "exception": false,
     "start_time": "2024-09-20T15:57:00.953346",
     "status": "completed"
    },
    "tags": []
   },
   "source": [
    "## 2- Reading the data"
   ]
  },
  {
   "cell_type": "code",
   "execution_count": 2,
   "id": "842ef411",
   "metadata": {
    "execution": {
     "iopub.execute_input": "2024-09-20T15:57:00.985197Z",
     "iopub.status.busy": "2024-09-20T15:57:00.984569Z",
     "iopub.status.idle": "2024-09-20T15:57:01.016886Z",
     "shell.execute_reply": "2024-09-20T15:57:01.015297Z"
    },
    "papermill": {
     "duration": 0.048035,
     "end_time": "2024-09-20T15:57:01.020995",
     "exception": false,
     "start_time": "2024-09-20T15:57:00.972960",
     "status": "completed"
    },
    "tags": []
   },
   "outputs": [],
   "source": [
    "data = pd.read_csv(r\"/kaggle/input/salary-dataset-simple-linear-regression/Salary_dataset.csv\")"
   ]
  },
  {
   "cell_type": "markdown",
   "id": "6059152d",
   "metadata": {
    "papermill": {
     "duration": 0.012844,
     "end_time": "2024-09-20T15:57:01.047374",
     "exception": false,
     "start_time": "2024-09-20T15:57:01.034530",
     "status": "completed"
    },
    "tags": []
   },
   "source": [
    "## 3- Data analysis"
   ]
  },
  {
   "cell_type": "code",
   "execution_count": 3,
   "id": "a15236d2",
   "metadata": {
    "execution": {
     "iopub.execute_input": "2024-09-20T15:57:01.076611Z",
     "iopub.status.busy": "2024-09-20T15:57:01.075205Z",
     "iopub.status.idle": "2024-09-20T15:57:01.110196Z",
     "shell.execute_reply": "2024-09-20T15:57:01.107878Z"
    },
    "papermill": {
     "duration": 0.053905,
     "end_time": "2024-09-20T15:57:01.113867",
     "exception": false,
     "start_time": "2024-09-20T15:57:01.059962",
     "status": "completed"
    },
    "tags": []
   },
   "outputs": [
    {
     "data": {
      "text/html": [
       "<div>\n",
       "<style scoped>\n",
       "    .dataframe tbody tr th:only-of-type {\n",
       "        vertical-align: middle;\n",
       "    }\n",
       "\n",
       "    .dataframe tbody tr th {\n",
       "        vertical-align: top;\n",
       "    }\n",
       "\n",
       "    .dataframe thead th {\n",
       "        text-align: right;\n",
       "    }\n",
       "</style>\n",
       "<table border=\"1\" class=\"dataframe\">\n",
       "  <thead>\n",
       "    <tr style=\"text-align: right;\">\n",
       "      <th></th>\n",
       "      <th>Unnamed: 0</th>\n",
       "      <th>YearsExperience</th>\n",
       "      <th>Salary</th>\n",
       "    </tr>\n",
       "  </thead>\n",
       "  <tbody>\n",
       "    <tr>\n",
       "      <th>0</th>\n",
       "      <td>0</td>\n",
       "      <td>1.2</td>\n",
       "      <td>39344.0</td>\n",
       "    </tr>\n",
       "    <tr>\n",
       "      <th>1</th>\n",
       "      <td>1</td>\n",
       "      <td>1.4</td>\n",
       "      <td>46206.0</td>\n",
       "    </tr>\n",
       "    <tr>\n",
       "      <th>2</th>\n",
       "      <td>2</td>\n",
       "      <td>1.6</td>\n",
       "      <td>37732.0</td>\n",
       "    </tr>\n",
       "    <tr>\n",
       "      <th>3</th>\n",
       "      <td>3</td>\n",
       "      <td>2.1</td>\n",
       "      <td>43526.0</td>\n",
       "    </tr>\n",
       "    <tr>\n",
       "      <th>4</th>\n",
       "      <td>4</td>\n",
       "      <td>2.3</td>\n",
       "      <td>39892.0</td>\n",
       "    </tr>\n",
       "  </tbody>\n",
       "</table>\n",
       "</div>"
      ],
      "text/plain": [
       "   Unnamed: 0  YearsExperience   Salary\n",
       "0           0              1.2  39344.0\n",
       "1           1              1.4  46206.0\n",
       "2           2              1.6  37732.0\n",
       "3           3              2.1  43526.0\n",
       "4           4              2.3  39892.0"
      ]
     },
     "execution_count": 3,
     "metadata": {},
     "output_type": "execute_result"
    }
   ],
   "source": [
    "data.head()"
   ]
  },
  {
   "cell_type": "code",
   "execution_count": 4,
   "id": "ef6c945b",
   "metadata": {
    "execution": {
     "iopub.execute_input": "2024-09-20T15:57:01.145688Z",
     "iopub.status.busy": "2024-09-20T15:57:01.144752Z",
     "iopub.status.idle": "2024-09-20T15:57:01.162804Z",
     "shell.execute_reply": "2024-09-20T15:57:01.161004Z"
    },
    "papermill": {
     "duration": 0.036776,
     "end_time": "2024-09-20T15:57:01.166544",
     "exception": false,
     "start_time": "2024-09-20T15:57:01.129768",
     "status": "completed"
    },
    "tags": []
   },
   "outputs": [
    {
     "data": {
      "text/html": [
       "<div>\n",
       "<style scoped>\n",
       "    .dataframe tbody tr th:only-of-type {\n",
       "        vertical-align: middle;\n",
       "    }\n",
       "\n",
       "    .dataframe tbody tr th {\n",
       "        vertical-align: top;\n",
       "    }\n",
       "\n",
       "    .dataframe thead th {\n",
       "        text-align: right;\n",
       "    }\n",
       "</style>\n",
       "<table border=\"1\" class=\"dataframe\">\n",
       "  <thead>\n",
       "    <tr style=\"text-align: right;\">\n",
       "      <th></th>\n",
       "      <th>Unnamed: 0</th>\n",
       "      <th>YearsExperience</th>\n",
       "      <th>Salary</th>\n",
       "    </tr>\n",
       "  </thead>\n",
       "  <tbody>\n",
       "    <tr>\n",
       "      <th>25</th>\n",
       "      <td>25</td>\n",
       "      <td>9.1</td>\n",
       "      <td>105583.0</td>\n",
       "    </tr>\n",
       "    <tr>\n",
       "      <th>26</th>\n",
       "      <td>26</td>\n",
       "      <td>9.6</td>\n",
       "      <td>116970.0</td>\n",
       "    </tr>\n",
       "    <tr>\n",
       "      <th>27</th>\n",
       "      <td>27</td>\n",
       "      <td>9.7</td>\n",
       "      <td>112636.0</td>\n",
       "    </tr>\n",
       "    <tr>\n",
       "      <th>28</th>\n",
       "      <td>28</td>\n",
       "      <td>10.4</td>\n",
       "      <td>122392.0</td>\n",
       "    </tr>\n",
       "    <tr>\n",
       "      <th>29</th>\n",
       "      <td>29</td>\n",
       "      <td>10.6</td>\n",
       "      <td>121873.0</td>\n",
       "    </tr>\n",
       "  </tbody>\n",
       "</table>\n",
       "</div>"
      ],
      "text/plain": [
       "    Unnamed: 0  YearsExperience    Salary\n",
       "25          25              9.1  105583.0\n",
       "26          26              9.6  116970.0\n",
       "27          27              9.7  112636.0\n",
       "28          28             10.4  122392.0\n",
       "29          29             10.6  121873.0"
      ]
     },
     "execution_count": 4,
     "metadata": {},
     "output_type": "execute_result"
    }
   ],
   "source": [
    "data.tail()"
   ]
  },
  {
   "cell_type": "code",
   "execution_count": 5,
   "id": "1d894c60",
   "metadata": {
    "execution": {
     "iopub.execute_input": "2024-09-20T15:57:01.190969Z",
     "iopub.status.busy": "2024-09-20T15:57:01.190277Z",
     "iopub.status.idle": "2024-09-20T15:57:01.220548Z",
     "shell.execute_reply": "2024-09-20T15:57:01.219384Z"
    },
    "papermill": {
     "duration": 0.046117,
     "end_time": "2024-09-20T15:57:01.223771",
     "exception": false,
     "start_time": "2024-09-20T15:57:01.177654",
     "status": "completed"
    },
    "tags": []
   },
   "outputs": [
    {
     "data": {
      "text/html": [
       "<div>\n",
       "<style scoped>\n",
       "    .dataframe tbody tr th:only-of-type {\n",
       "        vertical-align: middle;\n",
       "    }\n",
       "\n",
       "    .dataframe tbody tr th {\n",
       "        vertical-align: top;\n",
       "    }\n",
       "\n",
       "    .dataframe thead th {\n",
       "        text-align: right;\n",
       "    }\n",
       "</style>\n",
       "<table border=\"1\" class=\"dataframe\">\n",
       "  <thead>\n",
       "    <tr style=\"text-align: right;\">\n",
       "      <th></th>\n",
       "      <th>Unnamed: 0</th>\n",
       "      <th>YearsExperience</th>\n",
       "      <th>Salary</th>\n",
       "    </tr>\n",
       "  </thead>\n",
       "  <tbody>\n",
       "    <tr>\n",
       "      <th>count</th>\n",
       "      <td>30.000000</td>\n",
       "      <td>30.000000</td>\n",
       "      <td>30.000000</td>\n",
       "    </tr>\n",
       "    <tr>\n",
       "      <th>mean</th>\n",
       "      <td>14.500000</td>\n",
       "      <td>5.413333</td>\n",
       "      <td>76004.000000</td>\n",
       "    </tr>\n",
       "    <tr>\n",
       "      <th>std</th>\n",
       "      <td>8.803408</td>\n",
       "      <td>2.837888</td>\n",
       "      <td>27414.429785</td>\n",
       "    </tr>\n",
       "    <tr>\n",
       "      <th>min</th>\n",
       "      <td>0.000000</td>\n",
       "      <td>1.200000</td>\n",
       "      <td>37732.000000</td>\n",
       "    </tr>\n",
       "    <tr>\n",
       "      <th>25%</th>\n",
       "      <td>7.250000</td>\n",
       "      <td>3.300000</td>\n",
       "      <td>56721.750000</td>\n",
       "    </tr>\n",
       "    <tr>\n",
       "      <th>50%</th>\n",
       "      <td>14.500000</td>\n",
       "      <td>4.800000</td>\n",
       "      <td>65238.000000</td>\n",
       "    </tr>\n",
       "    <tr>\n",
       "      <th>75%</th>\n",
       "      <td>21.750000</td>\n",
       "      <td>7.800000</td>\n",
       "      <td>100545.750000</td>\n",
       "    </tr>\n",
       "    <tr>\n",
       "      <th>max</th>\n",
       "      <td>29.000000</td>\n",
       "      <td>10.600000</td>\n",
       "      <td>122392.000000</td>\n",
       "    </tr>\n",
       "  </tbody>\n",
       "</table>\n",
       "</div>"
      ],
      "text/plain": [
       "       Unnamed: 0  YearsExperience         Salary\n",
       "count   30.000000        30.000000      30.000000\n",
       "mean    14.500000         5.413333   76004.000000\n",
       "std      8.803408         2.837888   27414.429785\n",
       "min      0.000000         1.200000   37732.000000\n",
       "25%      7.250000         3.300000   56721.750000\n",
       "50%     14.500000         4.800000   65238.000000\n",
       "75%     21.750000         7.800000  100545.750000\n",
       "max     29.000000        10.600000  122392.000000"
      ]
     },
     "execution_count": 5,
     "metadata": {},
     "output_type": "execute_result"
    }
   ],
   "source": [
    "data.describe()"
   ]
  },
  {
   "cell_type": "code",
   "execution_count": 6,
   "id": "966530d6",
   "metadata": {
    "execution": {
     "iopub.execute_input": "2024-09-20T15:57:01.251494Z",
     "iopub.status.busy": "2024-09-20T15:57:01.251044Z",
     "iopub.status.idle": "2024-09-20T15:57:01.275400Z",
     "shell.execute_reply": "2024-09-20T15:57:01.273933Z"
    },
    "papermill": {
     "duration": 0.039287,
     "end_time": "2024-09-20T15:57:01.278073",
     "exception": false,
     "start_time": "2024-09-20T15:57:01.238786",
     "status": "completed"
    },
    "tags": []
   },
   "outputs": [
    {
     "name": "stdout",
     "output_type": "stream",
     "text": [
      "<class 'pandas.core.frame.DataFrame'>\n",
      "RangeIndex: 30 entries, 0 to 29\n",
      "Data columns (total 3 columns):\n",
      " #   Column           Non-Null Count  Dtype  \n",
      "---  ------           --------------  -----  \n",
      " 0   Unnamed: 0       30 non-null     int64  \n",
      " 1   YearsExperience  30 non-null     float64\n",
      " 2   Salary           30 non-null     float64\n",
      "dtypes: float64(2), int64(1)\n",
      "memory usage: 848.0 bytes\n"
     ]
    }
   ],
   "source": [
    "data.info()"
   ]
  },
  {
   "cell_type": "code",
   "execution_count": 7,
   "id": "94b33690",
   "metadata": {
    "execution": {
     "iopub.execute_input": "2024-09-20T15:57:01.301253Z",
     "iopub.status.busy": "2024-09-20T15:57:01.300362Z",
     "iopub.status.idle": "2024-09-20T15:57:01.310416Z",
     "shell.execute_reply": "2024-09-20T15:57:01.309165Z"
    },
    "papermill": {
     "duration": 0.024417,
     "end_time": "2024-09-20T15:57:01.312993",
     "exception": false,
     "start_time": "2024-09-20T15:57:01.288576",
     "status": "completed"
    },
    "tags": []
   },
   "outputs": [
    {
     "data": {
      "text/plain": [
       "0     False\n",
       "1     False\n",
       "2     False\n",
       "3     False\n",
       "4     False\n",
       "5     False\n",
       "6     False\n",
       "7     False\n",
       "8     False\n",
       "9     False\n",
       "10    False\n",
       "11    False\n",
       "12    False\n",
       "13    False\n",
       "14    False\n",
       "15    False\n",
       "16    False\n",
       "17    False\n",
       "18    False\n",
       "19    False\n",
       "20    False\n",
       "21    False\n",
       "22    False\n",
       "23    False\n",
       "24    False\n",
       "25    False\n",
       "26    False\n",
       "27    False\n",
       "28    False\n",
       "29    False\n",
       "dtype: bool"
      ]
     },
     "execution_count": 7,
     "metadata": {},
     "output_type": "execute_result"
    }
   ],
   "source": [
    "data.duplicated()"
   ]
  },
  {
   "cell_type": "code",
   "execution_count": 8,
   "id": "837b53f3",
   "metadata": {
    "execution": {
     "iopub.execute_input": "2024-09-20T15:57:01.336628Z",
     "iopub.status.busy": "2024-09-20T15:57:01.336166Z",
     "iopub.status.idle": "2024-09-20T15:57:01.356881Z",
     "shell.execute_reply": "2024-09-20T15:57:01.355730Z"
    },
    "papermill": {
     "duration": 0.03594,
     "end_time": "2024-09-20T15:57:01.359638",
     "exception": false,
     "start_time": "2024-09-20T15:57:01.323698",
     "status": "completed"
    },
    "tags": []
   },
   "outputs": [
    {
     "data": {
      "text/html": [
       "<div>\n",
       "<style scoped>\n",
       "    .dataframe tbody tr th:only-of-type {\n",
       "        vertical-align: middle;\n",
       "    }\n",
       "\n",
       "    .dataframe tbody tr th {\n",
       "        vertical-align: top;\n",
       "    }\n",
       "\n",
       "    .dataframe thead th {\n",
       "        text-align: right;\n",
       "    }\n",
       "</style>\n",
       "<table border=\"1\" class=\"dataframe\">\n",
       "  <thead>\n",
       "    <tr style=\"text-align: right;\">\n",
       "      <th></th>\n",
       "      <th>Unnamed: 0</th>\n",
       "      <th>YearsExperience</th>\n",
       "      <th>Salary</th>\n",
       "    </tr>\n",
       "  </thead>\n",
       "  <tbody>\n",
       "    <tr>\n",
       "      <th>0</th>\n",
       "      <td>0</td>\n",
       "      <td>1.2</td>\n",
       "      <td>39344.0</td>\n",
       "    </tr>\n",
       "    <tr>\n",
       "      <th>1</th>\n",
       "      <td>1</td>\n",
       "      <td>1.4</td>\n",
       "      <td>46206.0</td>\n",
       "    </tr>\n",
       "    <tr>\n",
       "      <th>2</th>\n",
       "      <td>2</td>\n",
       "      <td>1.6</td>\n",
       "      <td>37732.0</td>\n",
       "    </tr>\n",
       "    <tr>\n",
       "      <th>3</th>\n",
       "      <td>3</td>\n",
       "      <td>2.1</td>\n",
       "      <td>43526.0</td>\n",
       "    </tr>\n",
       "    <tr>\n",
       "      <th>4</th>\n",
       "      <td>4</td>\n",
       "      <td>2.3</td>\n",
       "      <td>39892.0</td>\n",
       "    </tr>\n",
       "    <tr>\n",
       "      <th>5</th>\n",
       "      <td>5</td>\n",
       "      <td>3.0</td>\n",
       "      <td>56643.0</td>\n",
       "    </tr>\n",
       "    <tr>\n",
       "      <th>6</th>\n",
       "      <td>6</td>\n",
       "      <td>3.1</td>\n",
       "      <td>60151.0</td>\n",
       "    </tr>\n",
       "    <tr>\n",
       "      <th>7</th>\n",
       "      <td>7</td>\n",
       "      <td>3.3</td>\n",
       "      <td>54446.0</td>\n",
       "    </tr>\n",
       "    <tr>\n",
       "      <th>8</th>\n",
       "      <td>8</td>\n",
       "      <td>3.3</td>\n",
       "      <td>64446.0</td>\n",
       "    </tr>\n",
       "    <tr>\n",
       "      <th>9</th>\n",
       "      <td>9</td>\n",
       "      <td>3.8</td>\n",
       "      <td>57190.0</td>\n",
       "    </tr>\n",
       "    <tr>\n",
       "      <th>10</th>\n",
       "      <td>10</td>\n",
       "      <td>4.0</td>\n",
       "      <td>63219.0</td>\n",
       "    </tr>\n",
       "    <tr>\n",
       "      <th>11</th>\n",
       "      <td>11</td>\n",
       "      <td>4.1</td>\n",
       "      <td>55795.0</td>\n",
       "    </tr>\n",
       "    <tr>\n",
       "      <th>12</th>\n",
       "      <td>12</td>\n",
       "      <td>4.1</td>\n",
       "      <td>56958.0</td>\n",
       "    </tr>\n",
       "    <tr>\n",
       "      <th>13</th>\n",
       "      <td>13</td>\n",
       "      <td>4.2</td>\n",
       "      <td>57082.0</td>\n",
       "    </tr>\n",
       "    <tr>\n",
       "      <th>14</th>\n",
       "      <td>14</td>\n",
       "      <td>4.6</td>\n",
       "      <td>61112.0</td>\n",
       "    </tr>\n",
       "    <tr>\n",
       "      <th>15</th>\n",
       "      <td>15</td>\n",
       "      <td>5.0</td>\n",
       "      <td>67939.0</td>\n",
       "    </tr>\n",
       "    <tr>\n",
       "      <th>16</th>\n",
       "      <td>16</td>\n",
       "      <td>5.2</td>\n",
       "      <td>66030.0</td>\n",
       "    </tr>\n",
       "    <tr>\n",
       "      <th>17</th>\n",
       "      <td>17</td>\n",
       "      <td>5.4</td>\n",
       "      <td>83089.0</td>\n",
       "    </tr>\n",
       "    <tr>\n",
       "      <th>18</th>\n",
       "      <td>18</td>\n",
       "      <td>6.0</td>\n",
       "      <td>81364.0</td>\n",
       "    </tr>\n",
       "    <tr>\n",
       "      <th>19</th>\n",
       "      <td>19</td>\n",
       "      <td>6.1</td>\n",
       "      <td>93941.0</td>\n",
       "    </tr>\n",
       "    <tr>\n",
       "      <th>20</th>\n",
       "      <td>20</td>\n",
       "      <td>6.9</td>\n",
       "      <td>91739.0</td>\n",
       "    </tr>\n",
       "    <tr>\n",
       "      <th>21</th>\n",
       "      <td>21</td>\n",
       "      <td>7.2</td>\n",
       "      <td>98274.0</td>\n",
       "    </tr>\n",
       "    <tr>\n",
       "      <th>22</th>\n",
       "      <td>22</td>\n",
       "      <td>8.0</td>\n",
       "      <td>101303.0</td>\n",
       "    </tr>\n",
       "    <tr>\n",
       "      <th>23</th>\n",
       "      <td>23</td>\n",
       "      <td>8.3</td>\n",
       "      <td>113813.0</td>\n",
       "    </tr>\n",
       "    <tr>\n",
       "      <th>24</th>\n",
       "      <td>24</td>\n",
       "      <td>8.8</td>\n",
       "      <td>109432.0</td>\n",
       "    </tr>\n",
       "    <tr>\n",
       "      <th>25</th>\n",
       "      <td>25</td>\n",
       "      <td>9.1</td>\n",
       "      <td>105583.0</td>\n",
       "    </tr>\n",
       "    <tr>\n",
       "      <th>26</th>\n",
       "      <td>26</td>\n",
       "      <td>9.6</td>\n",
       "      <td>116970.0</td>\n",
       "    </tr>\n",
       "    <tr>\n",
       "      <th>27</th>\n",
       "      <td>27</td>\n",
       "      <td>9.7</td>\n",
       "      <td>112636.0</td>\n",
       "    </tr>\n",
       "    <tr>\n",
       "      <th>28</th>\n",
       "      <td>28</td>\n",
       "      <td>10.4</td>\n",
       "      <td>122392.0</td>\n",
       "    </tr>\n",
       "    <tr>\n",
       "      <th>29</th>\n",
       "      <td>29</td>\n",
       "      <td>10.6</td>\n",
       "      <td>121873.0</td>\n",
       "    </tr>\n",
       "  </tbody>\n",
       "</table>\n",
       "</div>"
      ],
      "text/plain": [
       "    Unnamed: 0  YearsExperience    Salary\n",
       "0            0              1.2   39344.0\n",
       "1            1              1.4   46206.0\n",
       "2            2              1.6   37732.0\n",
       "3            3              2.1   43526.0\n",
       "4            4              2.3   39892.0\n",
       "5            5              3.0   56643.0\n",
       "6            6              3.1   60151.0\n",
       "7            7              3.3   54446.0\n",
       "8            8              3.3   64446.0\n",
       "9            9              3.8   57190.0\n",
       "10          10              4.0   63219.0\n",
       "11          11              4.1   55795.0\n",
       "12          12              4.1   56958.0\n",
       "13          13              4.2   57082.0\n",
       "14          14              4.6   61112.0\n",
       "15          15              5.0   67939.0\n",
       "16          16              5.2   66030.0\n",
       "17          17              5.4   83089.0\n",
       "18          18              6.0   81364.0\n",
       "19          19              6.1   93941.0\n",
       "20          20              6.9   91739.0\n",
       "21          21              7.2   98274.0\n",
       "22          22              8.0  101303.0\n",
       "23          23              8.3  113813.0\n",
       "24          24              8.8  109432.0\n",
       "25          25              9.1  105583.0\n",
       "26          26              9.6  116970.0\n",
       "27          27              9.7  112636.0\n",
       "28          28             10.4  122392.0\n",
       "29          29             10.6  121873.0"
      ]
     },
     "execution_count": 8,
     "metadata": {},
     "output_type": "execute_result"
    }
   ],
   "source": [
    "data.drop_duplicates()"
   ]
  },
  {
   "cell_type": "markdown",
   "id": "2ab1cf65",
   "metadata": {
    "papermill": {
     "duration": 0.010918,
     "end_time": "2024-09-20T15:57:01.381652",
     "exception": false,
     "start_time": "2024-09-20T15:57:01.370734",
     "status": "completed"
    },
    "tags": []
   },
   "source": [
    "## 4- Data visualization"
   ]
  },
  {
   "cell_type": "code",
   "execution_count": 9,
   "id": "b0fd4dad",
   "metadata": {
    "execution": {
     "iopub.execute_input": "2024-09-20T15:57:01.406555Z",
     "iopub.status.busy": "2024-09-20T15:57:01.405402Z",
     "iopub.status.idle": "2024-09-20T15:57:01.410998Z",
     "shell.execute_reply": "2024-09-20T15:57:01.409829Z"
    },
    "papermill": {
     "duration": 0.020562,
     "end_time": "2024-09-20T15:57:01.413542",
     "exception": false,
     "start_time": "2024-09-20T15:57:01.392980",
     "status": "completed"
    },
    "tags": []
   },
   "outputs": [],
   "source": [
    "# Create a DataFrame\n",
    "df = pd.DataFrame(data)"
   ]
  },
  {
   "cell_type": "code",
   "execution_count": 10,
   "id": "632ae67d",
   "metadata": {
    "execution": {
     "iopub.execute_input": "2024-09-20T15:57:01.438403Z",
     "iopub.status.busy": "2024-09-20T15:57:01.437938Z",
     "iopub.status.idle": "2024-09-20T15:57:01.758660Z",
     "shell.execute_reply": "2024-09-20T15:57:01.757456Z"
    },
    "papermill": {
     "duration": 0.336563,
     "end_time": "2024-09-20T15:57:01.761355",
     "exception": false,
     "start_time": "2024-09-20T15:57:01.424792",
     "status": "completed"
    },
    "tags": []
   },
   "outputs": [
    {
     "data": {
      "image/png": "[encoded data removed]",
      "text/plain": [
       "<Figure size 640x480 with 1 Axes>"
      ]
     },
     "metadata": {},
     "output_type": "display_data"
    }
   ],
   "source": [
    "# Plotting the data\n",
    "plt.scatter(df['YearsExperience'], df['Salary'], color='blue', marker='o')\n",
    "\n",
    "# Adding titles and labels\n",
    "plt.title('Years of Experience vs Salary')\n",
    "plt.xlabel('Years of Experience')\n",
    "plt.ylabel('Salary')\n",
    "\n",
    "# Show plot\n",
    "plt.show()"
   ]
  },
  {
   "cell_type": "code",
   "execution_count": 11,
   "id": "1ccf79bd",
   "metadata": {
    "execution": {
     "iopub.execute_input": "2024-09-20T15:57:01.787049Z",
     "iopub.status.busy": "2024-09-20T15:57:01.786561Z",
     "iopub.status.idle": "2024-09-20T15:57:02.070648Z",
     "shell.execute_reply": "2024-09-20T15:57:02.069467Z"
    },
    "papermill": {
     "duration": 0.300505,
     "end_time": "2024-09-20T15:57:02.073754",
     "exception": false,
     "start_time": "2024-09-20T15:57:01.773249",
     "status": "completed"
    },
    "tags": []
   },
   "outputs": [
    {
     "data": {
      "image/png": "[encoded data removed]",
      "text/plain": [
       "<Figure size 640x480 with 1 Axes>"
      ]
     },
     "metadata": {},
     "output_type": "display_data"
    }
   ],
   "source": [
    "# Plotting the data\n",
    "plt.plot(df['YearsExperience'], df['Salary'], color='green', marker='o', linestyle='-', linewidth=2)\n",
    "\n",
    "# Adding titles and labels\n",
    "plt.title('Years of Experience vs Salary')\n",
    "plt.xlabel('Years of Experience')\n",
    "plt.ylabel('Salary')\n",
    "\n",
    "# Show plot\n",
    "plt.show()"
   ]
  },
  {
   "cell_type": "code",
   "execution_count": 12,
   "id": "a92e70e5",
   "metadata": {
    "execution": {
     "iopub.execute_input": "2024-09-20T15:57:02.100535Z",
     "iopub.status.busy": "2024-09-20T15:57:02.100103Z",
     "iopub.status.idle": "2024-09-20T15:57:02.437211Z",
     "shell.execute_reply": "2024-09-20T15:57:02.435984Z"
    },
    "papermill": {
     "duration": 0.353479,
     "end_time": "2024-09-20T15:57:02.440041",
     "exception": false,
     "start_time": "2024-09-20T15:57:02.086562",
     "status": "completed"
    },
    "tags": []
   },
   "outputs": [
    {
     "data": {
      "image/png": "[encoded data removed]",
      "text/plain": [
       "<Figure size 640x480 with 1 Axes>"
      ]
     },
     "metadata": {},
     "output_type": "display_data"
    }
   ],
   "source": [
    "# Plotting the data\n",
    "plt.bar(df['YearsExperience'], df['Salary'], color='orange')\n",
    "\n",
    "# Adding titles and labels\n",
    "plt.title('Years of Experience vs Salary')\n",
    "plt.xlabel('Years of Experience')\n",
    "plt.ylabel('Salary')\n",
    "\n",
    "# Show plot\n",
    "plt.show()"
   ]
  },
  {
   "cell_type": "code",
   "execution_count": 13,
   "id": "72fa16a1",
   "metadata": {
    "execution": {
     "iopub.execute_input": "2024-09-20T15:57:02.467829Z",
     "iopub.status.busy": "2024-09-20T15:57:02.467318Z",
     "iopub.status.idle": "2024-09-20T15:57:02.752382Z",
     "shell.execute_reply": "2024-09-20T15:57:02.751281Z"
    },
    "papermill": {
     "duration": 0.302144,
     "end_time": "2024-09-20T15:57:02.755023",
     "exception": false,
     "start_time": "2024-09-20T15:57:02.452879",
     "status": "completed"
    },
    "tags": []
   },
   "outputs": [
    {
     "data": {
      "image/png": "[encoded data removed]",
      "text/plain": [
       "<Figure size 640x480 with 1 Axes>"
      ]
     },
     "metadata": {},
     "output_type": "display_data"
    }
   ],
   "source": [
    "# Plotting the data\n",
    "plt.hist(df['Salary'], bins=5, color='purple', edgecolor='black')\n",
    "\n",
    "# Adding titles and labels\n",
    "plt.title('Salary Distribution')\n",
    "plt.xlabel('Salary')\n",
    "plt.ylabel('Frequency')\n",
    "\n",
    "# Show plot\n",
    "plt.show()"
   ]
  },
  {
   "cell_type": "code",
   "execution_count": 14,
   "id": "bcee341c",
   "metadata": {
    "execution": {
     "iopub.execute_input": "2024-09-20T15:57:02.783179Z",
     "iopub.status.busy": "2024-09-20T15:57:02.782236Z",
     "iopub.status.idle": "2024-09-20T15:57:02.998975Z",
     "shell.execute_reply": "2024-09-20T15:57:02.997568Z"
    },
    "papermill": {
     "duration": 0.233862,
     "end_time": "2024-09-20T15:57:03.001849",
     "exception": false,
     "start_time": "2024-09-20T15:57:02.767987",
     "status": "completed"
    },
    "tags": []
   },
   "outputs": [
    {
     "data": {
      "image/png": "[encoded data removed]",
      "text/plain": [
       "<Figure size 640x480 with 1 Axes>"
      ]
     },
     "metadata": {},
     "output_type": "display_data"
    }
   ],
   "source": [
    "# Plotting the data\n",
    "plt.boxplot(df['Salary'], vert=False, patch_artist=True)\n",
    "\n",
    "# Adding titles and labels\n",
    "plt.title('Salary Distribution')\n",
    "plt.xlabel('Salary')\n",
    "\n",
    "# Show plot\n",
    "plt.show()"
   ]
  },
  {
   "cell_type": "code",
   "execution_count": 15,
   "id": "b8da92c8",
   "metadata": {
    "execution": {
     "iopub.execute_input": "2024-09-20T15:57:03.033082Z",
     "iopub.status.busy": "2024-09-20T15:57:03.032618Z",
     "iopub.status.idle": "2024-09-20T15:57:06.076620Z",
     "shell.execute_reply": "2024-09-20T15:57:06.075360Z"
    },
    "papermill": {
     "duration": 3.063707,
     "end_time": "2024-09-20T15:57:06.080071",
     "exception": false,
     "start_time": "2024-09-20T15:57:03.016364",
     "status": "completed"
    },
    "tags": []
   },
   "outputs": [
    {
     "data": {
      "image/png": "[encoded data removed]",
      "text/plain": [
       "<Figure size 750x750 with 12 Axes>"
      ]
     },
     "metadata": {},
     "output_type": "display_data"
    }
   ],
   "source": [
    "# Plotting the pair plot\n",
    "sns.pairplot(df)\n",
    "\n",
    "# Adding titles\n",
    "plt.suptitle('Pair Plot of YearsExperience and Salary', y=1.02)\n",
    "\n",
    "# Show plot\n",
    "plt.show()"
   ]
  },
  {
   "cell_type": "code",
   "execution_count": 16,
   "id": "804dcc05",
   "metadata": {
    "execution": {
     "iopub.execute_input": "2024-09-20T15:57:06.112278Z",
     "iopub.status.busy": "2024-09-20T15:57:06.111788Z",
     "iopub.status.idle": "2024-09-20T15:57:06.489009Z",
     "shell.execute_reply": "2024-09-20T15:57:06.487807Z"
    },
    "papermill": {
     "duration": 0.396664,
     "end_time": "2024-09-20T15:57:06.491828",
     "exception": false,
     "start_time": "2024-09-20T15:57:06.095164",
     "status": "completed"
    },
    "tags": []
   },
   "outputs": [
    {
     "data": {
      "image/png": "[encoded data removed]",
      "text/plain": [
       "<Figure size 640x480 with 2 Axes>"
      ]
     },
     "metadata": {},
     "output_type": "display_data"
    }
   ],
   "source": [
    "# Compute the correlation matrix\n",
    "corr = df.corr()\n",
    "\n",
    "# Plotting the heatmap\n",
    "sns.heatmap(corr, annot=True, cmap='coolwarm', vmin=-1, vmax=1)\n",
    "\n",
    "# Adding titles\n",
    "plt.title('Correlation Heatmap')\n",
    "\n",
    "# Show plot\n",
    "plt.show()"
   ]
  },
  {
   "cell_type": "markdown",
   "id": "a658711e",
   "metadata": {
    "papermill": {
     "duration": 0.014628,
     "end_time": "2024-09-20T15:57:06.521522",
     "exception": false,
     "start_time": "2024-09-20T15:57:06.506894",
     "status": "completed"
    },
    "tags": []
   },
   "source": [
    "## 5- Spiliting the data"
   ]
  },
  {
   "cell_type": "code",
   "execution_count": 17,
   "id": "e6c5f4f9",
   "metadata": {
    "execution": {
     "iopub.execute_input": "2024-09-20T15:57:06.555432Z",
     "iopub.status.busy": "2024-09-20T15:57:06.554960Z",
     "iopub.status.idle": "2024-09-20T15:57:06.563696Z",
     "shell.execute_reply": "2024-09-20T15:57:06.562039Z"
    },
    "papermill": {
     "duration": 0.028547,
     "end_time": "2024-09-20T15:57:06.566567",
     "exception": false,
     "start_time": "2024-09-20T15:57:06.538020",
     "status": "completed"
    },
    "tags": []
   },
   "outputs": [],
   "source": [
    "X = data[[\"YearsExperience\"]]\n",
    "y = data[[\"Salary\"]]"
   ]
  },
  {
   "cell_type": "code",
   "execution_count": 18,
   "id": "342d6f7d",
   "metadata": {
    "execution": {
     "iopub.execute_input": "2024-09-20T15:57:06.600140Z",
     "iopub.status.busy": "2024-09-20T15:57:06.599626Z",
     "iopub.status.idle": "2024-09-20T15:57:06.610097Z",
     "shell.execute_reply": "2024-09-20T15:57:06.608792Z"
    },
    "papermill": {
     "duration": 0.030497,
     "end_time": "2024-09-20T15:57:06.613004",
     "exception": false,
     "start_time": "2024-09-20T15:57:06.582507",
     "status": "completed"
    },
    "tags": []
   },
   "outputs": [],
   "source": [
    "# Splitting data into 80% training and 20% testing\n",
    "X_train, X_test, y_train, y_test = train_test_split(X, y, test_size=0.2, random_state=42)"
   ]
  },
  {
   "cell_type": "markdown",
   "id": "17f04a2b",
   "metadata": {
    "papermill": {
     "duration": 0.015343,
     "end_time": "2024-09-20T15:57:06.643192",
     "exception": false,
     "start_time": "2024-09-20T15:57:06.627849",
     "status": "completed"
    },
    "tags": []
   },
   "source": [
    "## 6- Building the model"
   ]
  },
  {
   "cell_type": "code",
   "execution_count": 19,
   "id": "8947f81d",
   "metadata": {
    "execution": {
     "iopub.execute_input": "2024-09-20T15:57:06.676357Z",
     "iopub.status.busy": "2024-09-20T15:57:06.675876Z",
     "iopub.status.idle": "2024-09-20T15:57:06.681766Z",
     "shell.execute_reply": "2024-09-20T15:57:06.680423Z"
    },
    "papermill": {
     "duration": 0.025388,
     "end_time": "2024-09-20T15:57:06.684516",
     "exception": false,
     "start_time": "2024-09-20T15:57:06.659128",
     "status": "completed"
    },
    "tags": []
   },
   "outputs": [],
   "source": [
    "model = LinearRegression()"
   ]
  },
  {
   "cell_type": "code",
   "execution_count": 20,
   "id": "29859c4e",
   "metadata": {
    "execution": {
     "iopub.execute_input": "2024-09-20T15:57:06.717830Z",
     "iopub.status.busy": "2024-09-20T15:57:06.717398Z",
     "iopub.status.idle": "2024-09-20T15:57:06.745881Z",
     "shell.execute_reply": "2024-09-20T15:57:06.744719Z"
    },
    "papermill": {
     "duration": 0.048579,
     "end_time": "2024-09-20T15:57:06.748593",
     "exception": false,
     "start_time": "2024-09-20T15:57:06.700014",
     "status": "completed"
    },
    "tags": []
   },
   "outputs": [
    {
     "data": {
      "text/html": [
       "<style>#sk-container-id-1 {color: black;background-color: white;}#sk-container-id-1 pre{padding: 0;}#sk-container-id-1 div.sk-toggleable {background-color: white;}#sk-container-id-1 label.sk-toggleable__label {cursor: pointer;display: block;width: 100%;margin-bottom: 0;padding: 0.3em;box-sizing: border-box;text-align: center;}#sk-container-id-1 label.sk-toggleable__label-arrow:before {content: \"▸\";float: left;margin-right: 0.25em;color: #696969;}#sk-container-id-1 label.sk-toggleable__label-arrow:hover:before {color: black;}#sk-container-id-1 div.sk-estimator:hover label.sk-toggleable__label-arrow:before {color: black;}#sk-container-id-1 div.sk-toggleable__content {max-height: 0;max-width: 0;overflow: hidden;text-align: left;background-color: #f0f8ff;}#sk-container-id-1 div.sk-toggleable__content pre {margin: 0.2em;color: black;border-radius: 0.25em;background-color: #f0f8ff;}#sk-container-id-1 input.sk-toggleable__control:checked~div.sk-toggleable__content {max-height: 200px;max-width: 100%;overflow: auto;}#sk-container-id-1 input.sk-toggleable__control:checked~label.sk-toggleable__label-arrow:before {content: \"▾\";}#sk-container-id-1 div.sk-estimator input.sk-toggleable__control:checked~label.sk-toggleable__label {background-color: #d4ebff;}#sk-container-id-1 div.sk-label input.sk-toggleable__control:checked~label.sk-toggleable__label {background-color: #d4ebff;}#sk-container-id-1 input.sk-hidden--visually {border: 0;clip: rect(1px 1px 1px 1px);clip: rect(1px, 1px, 1px, 1px);height: 1px;margin: -1px;overflow: hidden;padding: 0;position: absolute;width: 1px;}#sk-container-id-1 div.sk-estimator {font-family: monospace;background-color: #f0f8ff;border: 1px dotted black;border-radius: 0.25em;box-sizing: border-box;margin-bottom: 0.5em;}#sk-container-id-1 div.sk-estimator:hover {background-color: #d4ebff;}#sk-container-id-1 div.sk-parallel-item::after {content: \"\";width: 100%;border-bottom: 1px solid gray;flex-grow: 1;}#sk-container-id-1 div.sk-label:hover label.sk-toggleable__label {background-color: #d4ebff;}#sk-container-id-1 div.sk-serial::before {content: \"\";position: absolute;border-left: 1px solid gray;box-sizing: border-box;top: 0;bottom: 0;left: 50%;z-index: 0;}#sk-container-id-1 div.sk-serial {display: flex;flex-direction: column;align-items: center;background-color: white;padding-right: 0.2em;padding-left: 0.2em;position: relative;}#sk-container-id-1 div.sk-item {position: relative;z-index: 1;}#sk-container-id-1 div.sk-parallel {display: flex;align-items: stretch;justify-content: center;background-color: white;position: relative;}#sk-container-id-1 div.sk-item::before, #sk-container-id-1 div.sk-parallel-item::before {content: \"\";position: absolute;border-left: 1px solid gray;box-sizing: border-box;top: 0;bottom: 0;left: 50%;z-index: -1;}#sk-container-id-1 div.sk-parallel-item {display: flex;flex-direction: column;z-index: 1;position: relative;background-color: white;}#sk-container-id-1 div.sk-parallel-item:first-child::after {align-self: flex-end;width: 50%;}#sk-container-id-1 div.sk-parallel-item:last-child::after {align-self: flex-start;width: 50%;}#sk-container-id-1 div.sk-parallel-item:only-child::after {width: 0;}#sk-container-id-1 div.sk-dashed-wrapped {border: 1px dashed gray;margin: 0 0.4em 0.5em 0.4em;box-sizing: border-box;padding-bottom: 0.4em;background-color: white;}#sk-container-id-1 div.sk-label label {font-family: monospace;font-weight: bold;display: inline-block;line-height: 1.2em;}#sk-container-id-1 div.sk-label-container {text-align: center;}#sk-container-id-1 div.sk-container {/* jupyter's `normalize.less` sets `[hidden] { display: none; }` but bootstrap.min.css set `[hidden] { display: none !important; }` so we also need the `!important` here to be able to override the default hidden behavior on the sphinx rendered scikit-learn.org. See: https://github.com/scikit-learn/scikit-learn/issues/21755 */display: inline-block !important;position: relative;}#sk-container-id-1 div.sk-text-repr-fallback {display: none;}</style><div id=\"sk-container-id-1\" class=\"sk-top-container\"><div class=\"sk-text-repr-fallback\"><pre>LinearRegression()</pre><b>In a Jupyter environment, please rerun this cell to show the HTML representation or trust the notebook. <br />On GitHub, the HTML representation is unable to render, please try loading this page with nbviewer.org.</b></div><div class=\"sk-container\" hidden><div class=\"sk-item\"><div class=\"sk-estimator sk-toggleable\"><input class=\"sk-toggleable__control sk-hidden--visually\" id=\"sk-estimator-id-1\" type=\"checkbox\" checked><label for=\"sk-estimator-id-1\" class=\"sk-toggleable__label sk-toggleable__label-arrow\">LinearRegression</label><div class=\"sk-toggleable__content\"><pre>LinearRegression()</pre></div></div></div></div></div>"
      ],
      "text/plain": [
       "LinearRegression()"
      ]
     },
     "execution_count": 20,
     "metadata": {},
     "output_type": "execute_result"
    }
   ],
   "source": [
    "model.fit(X_train,y_train)"
   ]
  },
  {
   "cell_type": "code",
   "execution_count": 21,
   "id": "592aa8e2",
   "metadata": {
    "execution": {
     "iopub.execute_input": "2024-09-20T15:57:06.781889Z",
     "iopub.status.busy": "2024-09-20T15:57:06.781407Z",
     "iopub.status.idle": "2024-09-20T15:57:06.791195Z",
     "shell.execute_reply": "2024-09-20T15:57:06.789988Z"
    },
    "papermill": {
     "duration": 0.029546,
     "end_time": "2024-09-20T15:57:06.793870",
     "exception": false,
     "start_time": "2024-09-20T15:57:06.764324",
     "status": "completed"
    },
    "tags": []
   },
   "outputs": [
    {
     "data": {
      "text/plain": [
       "array([[115791.21011287],\n",
       "       [ 71499.27809463],\n",
       "       [102597.86866063],\n",
       "       [ 75268.80422384],\n",
       "       [ 55478.79204548],\n",
       "       [ 60190.69970699]])"
      ]
     },
     "execution_count": 21,
     "metadata": {},
     "output_type": "execute_result"
    }
   ],
   "source": [
    "# Predicting\n",
    "y_pred = model.predict(X_test)\n",
    "y_pred"
   ]
  },
  {
   "cell_type": "markdown",
   "id": "e6bfc582",
   "metadata": {
    "papermill": {
     "duration": 0.01533,
     "end_time": "2024-09-20T15:57:06.825009",
     "exception": false,
     "start_time": "2024-09-20T15:57:06.809679",
     "status": "completed"
    },
    "tags": []
   },
   "source": [
    "## 7- Evaluating the model"
   ]
  },
  {
   "cell_type": "code",
   "execution_count": 22,
   "id": "c3f7c97e",
   "metadata": {
    "execution": {
     "iopub.execute_input": "2024-09-20T15:57:06.859428Z",
     "iopub.status.busy": "2024-09-20T15:57:06.858947Z",
     "iopub.status.idle": "2024-09-20T15:57:06.867260Z",
     "shell.execute_reply": "2024-09-20T15:57:06.865948Z"
    },
    "papermill": {
     "duration": 0.029612,
     "end_time": "2024-09-20T15:57:06.870398",
     "exception": false,
     "start_time": "2024-09-20T15:57:06.840786",
     "status": "completed"
    },
    "tags": []
   },
   "outputs": [
    {
     "name": "stdout",
     "output_type": "stream",
     "text": [
      "Mean Absolute Error: 6286.453830757745\n"
     ]
    }
   ],
   "source": [
    "# Calculate MAE\n",
    "mae = mean_absolute_error(y_test, y_pred)\n",
    "print(\"Mean Absolute Error:\", mae)"
   ]
  },
  {
   "cell_type": "code",
   "execution_count": 23,
   "id": "05e25753",
   "metadata": {
    "execution": {
     "iopub.execute_input": "2024-09-20T15:57:06.904495Z",
     "iopub.status.busy": "2024-09-20T15:57:06.904023Z",
     "iopub.status.idle": "2024-09-20T15:57:06.913381Z",
     "shell.execute_reply": "2024-09-20T15:57:06.912054Z"
    },
    "papermill": {
     "duration": 0.030044,
     "end_time": "2024-09-20T15:57:06.916186",
     "exception": false,
     "start_time": "2024-09-20T15:57:06.886142",
     "status": "completed"
    },
    "tags": []
   },
   "outputs": [
    {
     "name": "stdout",
     "output_type": "stream",
     "text": [
      "Mean Squared Error: 49830096.855908394\n"
     ]
    }
   ],
   "source": [
    "# Calculate MSE\n",
    "mse = mean_squared_error(y_test, y_pred)\n",
    "print(\"Mean Squared Error:\", mse)"
   ]
  },
  {
   "cell_type": "code",
   "execution_count": null,
   "id": "82793a6f",
   "metadata": {
    "papermill": {
     "duration": 0.017155,
     "end_time": "2024-09-20T15:57:06.949541",
     "exception": false,
     "start_time": "2024-09-20T15:57:06.932386",
     "status": "completed"
    },
    "tags": []
   },
   "outputs": [],
   "source": []
  }
 ],
 "metadata": {
  "kaggle": {
   "accelerator": "none",
   "dataSources": [
    {
     "datasetId": 5643401,
     "sourceId": 9317164,
     "sourceType": "datasetVersion"
    }
   ],
   "dockerImageVersionId": 30761,
   "isGpuEnabled": false,
   "isInternetEnabled": true,
   "language": "python",
   "sourceType": "notebook"
  },
  "kernelspec": {
   "display_name": "Python 3",
   "language": "python",
   "name": "python3"
  },
  "language_info": {
   "codemirror_mode": {
    "name": "ipython",
    "version": 3
   },
   "file_extension": ".py",
   "mimetype": "text/x-python",
   "name": "python",
   "nbconvert_exporter": "python",
   "pygments_lexer": "ipython3",
   "version": "3.10.14"
  },
  "papermill": {
   "default_parameters": {},
   "duration": 13.481946,
   "end_time": "2024-09-20T15:57:07.689576",
   "environment_variables": {},
   "exception": null,
   "input_path": "__notebook__.ipynb",
   "output_path": "__notebook__.ipynb",
   "parameters": {},
   "start_time": "2024-09-20T15:56:54.207630",
   "version": "2.6.0"
  }
 },
 "nbformat": 4,
 "nbformat_minor": 5
}
